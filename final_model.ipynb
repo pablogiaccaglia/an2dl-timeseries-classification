{
 "cells": [
  {
   "cell_type": "markdown",
   "source": [
    "# Installs"
   ],
   "metadata": {
    "collapsed": false
   }
  },
  {
   "cell_type": "code",
   "execution_count": null,
   "metadata": {
    "colab": {
     "base_uri": "https://localhost:8080/"
    },
    "id": "mG2Q7KWb5Dmv",
    "outputId": "b6624567-c479-46cc-907e-8c49bda901e6"
   },
   "outputs": [
    {
     "output_type": "stream",
     "name": "stdout",
     "text": [
      "Looking in indexes: https://pypi.org/simple, https://us-python.pkg.dev/colab-wheels/public/simple/\n",
      "Collecting tensorflow==2.10.1\n",
      "  Downloading tensorflow-2.10.1-cp38-cp38-manylinux_2_17_x86_64.manylinux2014_x86_64.whl (578.1 MB)\n",
      "\u001B[K     |████████████████████████████████| 578.1 MB 7.1 kB/s \n",
      "\u001B[?25hCollecting tensorflow-estimator<2.11,>=2.10.0\n",
      "  Downloading tensorflow_estimator-2.10.0-py2.py3-none-any.whl (438 kB)\n",
      "\u001B[K     |████████████████████████████████| 438 kB 77.2 MB/s \n",
      "\u001B[?25hRequirement already satisfied: packaging in /usr/local/lib/python3.8/dist-packages (from tensorflow==2.10.1) (21.3)\n",
      "Requirement already satisfied: typing-extensions>=3.6.6 in /usr/local/lib/python3.8/dist-packages (from tensorflow==2.10.1) (4.4.0)\n",
      "Requirement already satisfied: keras-preprocessing>=1.1.1 in /usr/local/lib/python3.8/dist-packages (from tensorflow==2.10.1) (1.1.2)\n",
      "Requirement already satisfied: libclang>=13.0.0 in /usr/local/lib/python3.8/dist-packages (from tensorflow==2.10.1) (14.0.6)\n",
      "Requirement already satisfied: opt-einsum>=2.3.2 in /usr/local/lib/python3.8/dist-packages (from tensorflow==2.10.1) (3.3.0)\n",
      "Requirement already satisfied: google-pasta>=0.1.1 in /usr/local/lib/python3.8/dist-packages (from tensorflow==2.10.1) (0.2.0)\n",
      "Requirement already satisfied: gast<=0.4.0,>=0.2.1 in /usr/local/lib/python3.8/dist-packages (from tensorflow==2.10.1) (0.4.0)\n",
      "Requirement already satisfied: six>=1.12.0 in /usr/local/lib/python3.8/dist-packages (from tensorflow==2.10.1) (1.15.0)\n",
      "Collecting flatbuffers>=2.0\n",
      "  Downloading flatbuffers-22.12.6-py2.py3-none-any.whl (26 kB)\n",
      "Requirement already satisfied: termcolor>=1.1.0 in /usr/local/lib/python3.8/dist-packages (from tensorflow==2.10.1) (2.1.1)\n",
      "Requirement already satisfied: h5py>=2.9.0 in /usr/local/lib/python3.8/dist-packages (from tensorflow==2.10.1) (3.1.0)\n",
      "Requirement already satisfied: astunparse>=1.6.0 in /usr/local/lib/python3.8/dist-packages (from tensorflow==2.10.1) (1.6.3)\n",
      "Requirement already satisfied: tensorflow-io-gcs-filesystem>=0.23.1 in /usr/local/lib/python3.8/dist-packages (from tensorflow==2.10.1) (0.28.0)\n",
      "Requirement already satisfied: grpcio<2.0,>=1.24.3 in /usr/local/lib/python3.8/dist-packages (from tensorflow==2.10.1) (1.51.1)\n",
      "Collecting keras<2.11,>=2.10.0\n",
      "  Downloading keras-2.10.0-py2.py3-none-any.whl (1.7 MB)\n",
      "\u001B[K     |████████████████████████████████| 1.7 MB 58.6 MB/s \n",
      "\u001B[?25hCollecting tensorboard<2.11,>=2.10\n",
      "  Downloading tensorboard-2.10.1-py3-none-any.whl (5.9 MB)\n",
      "\u001B[K     |████████████████████████████████| 5.9 MB 71.5 MB/s \n",
      "\u001B[?25hRequirement already satisfied: absl-py>=1.0.0 in /usr/local/lib/python3.8/dist-packages (from tensorflow==2.10.1) (1.3.0)\n",
      "Requirement already satisfied: setuptools in /usr/local/lib/python3.8/dist-packages (from tensorflow==2.10.1) (57.4.0)\n",
      "Requirement already satisfied: wrapt>=1.11.0 in /usr/local/lib/python3.8/dist-packages (from tensorflow==2.10.1) (1.14.1)\n",
      "Requirement already satisfied: numpy>=1.20 in /usr/local/lib/python3.8/dist-packages (from tensorflow==2.10.1) (1.21.6)\n",
      "Requirement already satisfied: protobuf<3.20,>=3.9.2 in /usr/local/lib/python3.8/dist-packages (from tensorflow==2.10.1) (3.19.6)\n",
      "Requirement already satisfied: wheel<1.0,>=0.23.0 in /usr/local/lib/python3.8/dist-packages (from astunparse>=1.6.0->tensorflow==2.10.1) (0.38.4)\n",
      "Requirement already satisfied: google-auth-oauthlib<0.5,>=0.4.1 in /usr/local/lib/python3.8/dist-packages (from tensorboard<2.11,>=2.10->tensorflow==2.10.1) (0.4.6)\n",
      "Requirement already satisfied: tensorboard-plugin-wit>=1.6.0 in /usr/local/lib/python3.8/dist-packages (from tensorboard<2.11,>=2.10->tensorflow==2.10.1) (1.8.1)\n",
      "Requirement already satisfied: markdown>=2.6.8 in /usr/local/lib/python3.8/dist-packages (from tensorboard<2.11,>=2.10->tensorflow==2.10.1) (3.4.1)\n",
      "Requirement already satisfied: tensorboard-data-server<0.7.0,>=0.6.0 in /usr/local/lib/python3.8/dist-packages (from tensorboard<2.11,>=2.10->tensorflow==2.10.1) (0.6.1)\n",
      "Requirement already satisfied: google-auth<3,>=1.6.3 in /usr/local/lib/python3.8/dist-packages (from tensorboard<2.11,>=2.10->tensorflow==2.10.1) (2.15.0)\n",
      "Requirement already satisfied: werkzeug>=1.0.1 in /usr/local/lib/python3.8/dist-packages (from tensorboard<2.11,>=2.10->tensorflow==2.10.1) (1.0.1)\n",
      "Requirement already satisfied: requests<3,>=2.21.0 in /usr/local/lib/python3.8/dist-packages (from tensorboard<2.11,>=2.10->tensorflow==2.10.1) (2.23.0)\n",
      "Requirement already satisfied: rsa<5,>=3.1.4 in /usr/local/lib/python3.8/dist-packages (from google-auth<3,>=1.6.3->tensorboard<2.11,>=2.10->tensorflow==2.10.1) (4.9)\n",
      "Requirement already satisfied: pyasn1-modules>=0.2.1 in /usr/local/lib/python3.8/dist-packages (from google-auth<3,>=1.6.3->tensorboard<2.11,>=2.10->tensorflow==2.10.1) (0.2.8)\n",
      "Requirement already satisfied: cachetools<6.0,>=2.0.0 in /usr/local/lib/python3.8/dist-packages (from google-auth<3,>=1.6.3->tensorboard<2.11,>=2.10->tensorflow==2.10.1) (5.2.0)\n",
      "Requirement already satisfied: requests-oauthlib>=0.7.0 in /usr/local/lib/python3.8/dist-packages (from google-auth-oauthlib<0.5,>=0.4.1->tensorboard<2.11,>=2.10->tensorflow==2.10.1) (1.3.1)\n",
      "Requirement already satisfied: importlib-metadata>=4.4 in /usr/local/lib/python3.8/dist-packages (from markdown>=2.6.8->tensorboard<2.11,>=2.10->tensorflow==2.10.1) (5.1.0)\n",
      "Requirement already satisfied: zipp>=0.5 in /usr/local/lib/python3.8/dist-packages (from importlib-metadata>=4.4->markdown>=2.6.8->tensorboard<2.11,>=2.10->tensorflow==2.10.1) (3.11.0)\n",
      "Requirement already satisfied: pyasn1<0.5.0,>=0.4.6 in /usr/local/lib/python3.8/dist-packages (from pyasn1-modules>=0.2.1->google-auth<3,>=1.6.3->tensorboard<2.11,>=2.10->tensorflow==2.10.1) (0.4.8)\n",
      "Requirement already satisfied: idna<3,>=2.5 in /usr/local/lib/python3.8/dist-packages (from requests<3,>=2.21.0->tensorboard<2.11,>=2.10->tensorflow==2.10.1) (2.10)\n",
      "Requirement already satisfied: certifi>=2017.4.17 in /usr/local/lib/python3.8/dist-packages (from requests<3,>=2.21.0->tensorboard<2.11,>=2.10->tensorflow==2.10.1) (2022.12.7)\n",
      "Requirement already satisfied: chardet<4,>=3.0.2 in /usr/local/lib/python3.8/dist-packages (from requests<3,>=2.21.0->tensorboard<2.11,>=2.10->tensorflow==2.10.1) (3.0.4)\n",
      "Requirement already satisfied: urllib3!=1.25.0,!=1.25.1,<1.26,>=1.21.1 in /usr/local/lib/python3.8/dist-packages (from requests<3,>=2.21.0->tensorboard<2.11,>=2.10->tensorflow==2.10.1) (1.24.3)\n",
      "Requirement already satisfied: oauthlib>=3.0.0 in /usr/local/lib/python3.8/dist-packages (from requests-oauthlib>=0.7.0->google-auth-oauthlib<0.5,>=0.4.1->tensorboard<2.11,>=2.10->tensorflow==2.10.1) (3.2.2)\n",
      "Requirement already satisfied: pyparsing!=3.0.5,>=2.0.2 in /usr/local/lib/python3.8/dist-packages (from packaging->tensorflow==2.10.1) (3.0.9)\n",
      "Installing collected packages: tensorflow-estimator, tensorboard, keras, flatbuffers, tensorflow\n",
      "  Attempting uninstall: tensorflow-estimator\n",
      "    Found existing installation: tensorflow-estimator 2.9.0\n",
      "    Uninstalling tensorflow-estimator-2.9.0:\n",
      "      Successfully uninstalled tensorflow-estimator-2.9.0\n",
      "  Attempting uninstall: tensorboard\n",
      "    Found existing installation: tensorboard 2.9.1\n",
      "    Uninstalling tensorboard-2.9.1:\n",
      "      Successfully uninstalled tensorboard-2.9.1\n",
      "  Attempting uninstall: keras\n",
      "    Found existing installation: keras 2.9.0\n",
      "    Uninstalling keras-2.9.0:\n",
      "      Successfully uninstalled keras-2.9.0\n",
      "  Attempting uninstall: flatbuffers\n",
      "    Found existing installation: flatbuffers 1.12\n",
      "    Uninstalling flatbuffers-1.12:\n",
      "      Successfully uninstalled flatbuffers-1.12\n",
      "  Attempting uninstall: tensorflow\n",
      "    Found existing installation: tensorflow 2.9.2\n",
      "    Uninstalling tensorflow-2.9.2:\n",
      "      Successfully uninstalled tensorflow-2.9.2\n",
      "Successfully installed flatbuffers-22.12.6 keras-2.10.0 tensorboard-2.10.1 tensorflow-2.10.1 tensorflow-estimator-2.10.0\n"
     ]
    }
   ],
   "source": [
    "!pip install tensorflow==2.10.1"
   ]
  },
  {
   "cell_type": "code",
   "execution_count": null,
   "metadata": {
    "colab": {
     "base_uri": "https://localhost:8080/"
    },
    "id": "64eIEDRsEewT",
    "outputId": "a2d66bfb-2aec-4902-ab94-9c12b45ab828"
   },
   "outputs": [
    {
     "output_type": "stream",
     "name": "stdout",
     "text": [
      "Looking in indexes: https://pypi.org/simple, https://us-python.pkg.dev/colab-wheels/public/simple/\n",
      "Collecting focal-loss\n",
      "  Downloading focal_loss-0.0.7-py3-none-any.whl (19 kB)\n",
      "Requirement already satisfied: tensorflow>=2.2 in /usr/local/lib/python3.8/dist-packages (from focal-loss) (2.10.1)\n",
      "Requirement already satisfied: flatbuffers>=2.0 in /usr/local/lib/python3.8/dist-packages (from tensorflow>=2.2->focal-loss) (22.12.6)\n",
      "Requirement already satisfied: protobuf<3.20,>=3.9.2 in /usr/local/lib/python3.8/dist-packages (from tensorflow>=2.2->focal-loss) (3.19.6)\n",
      "Requirement already satisfied: numpy>=1.20 in /usr/local/lib/python3.8/dist-packages (from tensorflow>=2.2->focal-loss) (1.21.6)\n",
      "Requirement already satisfied: astunparse>=1.6.0 in /usr/local/lib/python3.8/dist-packages (from tensorflow>=2.2->focal-loss) (1.6.3)\n",
      "Requirement already satisfied: google-pasta>=0.1.1 in /usr/local/lib/python3.8/dist-packages (from tensorflow>=2.2->focal-loss) (0.2.0)\n",
      "Requirement already satisfied: packaging in /usr/local/lib/python3.8/dist-packages (from tensorflow>=2.2->focal-loss) (21.3)\n",
      "Requirement already satisfied: h5py>=2.9.0 in /usr/local/lib/python3.8/dist-packages (from tensorflow>=2.2->focal-loss) (3.1.0)\n",
      "Requirement already satisfied: keras<2.11,>=2.10.0 in /usr/local/lib/python3.8/dist-packages (from tensorflow>=2.2->focal-loss) (2.10.0)\n",
      "Requirement already satisfied: wrapt>=1.11.0 in /usr/local/lib/python3.8/dist-packages (from tensorflow>=2.2->focal-loss) (1.14.1)\n",
      "Requirement already satisfied: tensorflow-io-gcs-filesystem>=0.23.1 in /usr/local/lib/python3.8/dist-packages (from tensorflow>=2.2->focal-loss) (0.28.0)\n",
      "Requirement already satisfied: termcolor>=1.1.0 in /usr/local/lib/python3.8/dist-packages (from tensorflow>=2.2->focal-loss) (2.1.1)\n",
      "Requirement already satisfied: grpcio<2.0,>=1.24.3 in /usr/local/lib/python3.8/dist-packages (from tensorflow>=2.2->focal-loss) (1.51.1)\n",
      "Requirement already satisfied: tensorflow-estimator<2.11,>=2.10.0 in /usr/local/lib/python3.8/dist-packages (from tensorflow>=2.2->focal-loss) (2.10.0)\n",
      "Requirement already satisfied: keras-preprocessing>=1.1.1 in /usr/local/lib/python3.8/dist-packages (from tensorflow>=2.2->focal-loss) (1.1.2)\n",
      "Requirement already satisfied: opt-einsum>=2.3.2 in /usr/local/lib/python3.8/dist-packages (from tensorflow>=2.2->focal-loss) (3.3.0)\n",
      "Requirement already satisfied: libclang>=13.0.0 in /usr/local/lib/python3.8/dist-packages (from tensorflow>=2.2->focal-loss) (14.0.6)\n",
      "Requirement already satisfied: setuptools in /usr/local/lib/python3.8/dist-packages (from tensorflow>=2.2->focal-loss) (57.4.0)\n",
      "Requirement already satisfied: typing-extensions>=3.6.6 in /usr/local/lib/python3.8/dist-packages (from tensorflow>=2.2->focal-loss) (4.4.0)\n",
      "Requirement already satisfied: tensorboard<2.11,>=2.10 in /usr/local/lib/python3.8/dist-packages (from tensorflow>=2.2->focal-loss) (2.10.1)\n",
      "Requirement already satisfied: six>=1.12.0 in /usr/local/lib/python3.8/dist-packages (from tensorflow>=2.2->focal-loss) (1.15.0)\n",
      "Requirement already satisfied: absl-py>=1.0.0 in /usr/local/lib/python3.8/dist-packages (from tensorflow>=2.2->focal-loss) (1.3.0)\n",
      "Requirement already satisfied: gast<=0.4.0,>=0.2.1 in /usr/local/lib/python3.8/dist-packages (from tensorflow>=2.2->focal-loss) (0.4.0)\n",
      "Requirement already satisfied: wheel<1.0,>=0.23.0 in /usr/local/lib/python3.8/dist-packages (from astunparse>=1.6.0->tensorflow>=2.2->focal-loss) (0.38.4)\n",
      "Requirement already satisfied: google-auth-oauthlib<0.5,>=0.4.1 in /usr/local/lib/python3.8/dist-packages (from tensorboard<2.11,>=2.10->tensorflow>=2.2->focal-loss) (0.4.6)\n",
      "Requirement already satisfied: requests<3,>=2.21.0 in /usr/local/lib/python3.8/dist-packages (from tensorboard<2.11,>=2.10->tensorflow>=2.2->focal-loss) (2.23.0)\n",
      "Requirement already satisfied: werkzeug>=1.0.1 in /usr/local/lib/python3.8/dist-packages (from tensorboard<2.11,>=2.10->tensorflow>=2.2->focal-loss) (1.0.1)\n",
      "Requirement already satisfied: tensorboard-data-server<0.7.0,>=0.6.0 in /usr/local/lib/python3.8/dist-packages (from tensorboard<2.11,>=2.10->tensorflow>=2.2->focal-loss) (0.6.1)\n",
      "Requirement already satisfied: google-auth<3,>=1.6.3 in /usr/local/lib/python3.8/dist-packages (from tensorboard<2.11,>=2.10->tensorflow>=2.2->focal-loss) (2.15.0)\n",
      "Requirement already satisfied: markdown>=2.6.8 in /usr/local/lib/python3.8/dist-packages (from tensorboard<2.11,>=2.10->tensorflow>=2.2->focal-loss) (3.4.1)\n",
      "Requirement already satisfied: tensorboard-plugin-wit>=1.6.0 in /usr/local/lib/python3.8/dist-packages (from tensorboard<2.11,>=2.10->tensorflow>=2.2->focal-loss) (1.8.1)\n",
      "Requirement already satisfied: pyasn1-modules>=0.2.1 in /usr/local/lib/python3.8/dist-packages (from google-auth<3,>=1.6.3->tensorboard<2.11,>=2.10->tensorflow>=2.2->focal-loss) (0.2.8)\n",
      "Requirement already satisfied: rsa<5,>=3.1.4 in /usr/local/lib/python3.8/dist-packages (from google-auth<3,>=1.6.3->tensorboard<2.11,>=2.10->tensorflow>=2.2->focal-loss) (4.9)\n",
      "Requirement already satisfied: cachetools<6.0,>=2.0.0 in /usr/local/lib/python3.8/dist-packages (from google-auth<3,>=1.6.3->tensorboard<2.11,>=2.10->tensorflow>=2.2->focal-loss) (5.2.0)\n",
      "Requirement already satisfied: requests-oauthlib>=0.7.0 in /usr/local/lib/python3.8/dist-packages (from google-auth-oauthlib<0.5,>=0.4.1->tensorboard<2.11,>=2.10->tensorflow>=2.2->focal-loss) (1.3.1)\n",
      "Requirement already satisfied: importlib-metadata>=4.4 in /usr/local/lib/python3.8/dist-packages (from markdown>=2.6.8->tensorboard<2.11,>=2.10->tensorflow>=2.2->focal-loss) (5.1.0)\n",
      "Requirement already satisfied: zipp>=0.5 in /usr/local/lib/python3.8/dist-packages (from importlib-metadata>=4.4->markdown>=2.6.8->tensorboard<2.11,>=2.10->tensorflow>=2.2->focal-loss) (3.11.0)\n",
      "Requirement already satisfied: pyasn1<0.5.0,>=0.4.6 in /usr/local/lib/python3.8/dist-packages (from pyasn1-modules>=0.2.1->google-auth<3,>=1.6.3->tensorboard<2.11,>=2.10->tensorflow>=2.2->focal-loss) (0.4.8)\n",
      "Requirement already satisfied: idna<3,>=2.5 in /usr/local/lib/python3.8/dist-packages (from requests<3,>=2.21.0->tensorboard<2.11,>=2.10->tensorflow>=2.2->focal-loss) (2.10)\n",
      "Requirement already satisfied: urllib3!=1.25.0,!=1.25.1,<1.26,>=1.21.1 in /usr/local/lib/python3.8/dist-packages (from requests<3,>=2.21.0->tensorboard<2.11,>=2.10->tensorflow>=2.2->focal-loss) (1.24.3)\n",
      "Requirement already satisfied: certifi>=2017.4.17 in /usr/local/lib/python3.8/dist-packages (from requests<3,>=2.21.0->tensorboard<2.11,>=2.10->tensorflow>=2.2->focal-loss) (2022.12.7)\n",
      "Requirement already satisfied: chardet<4,>=3.0.2 in /usr/local/lib/python3.8/dist-packages (from requests<3,>=2.21.0->tensorboard<2.11,>=2.10->tensorflow>=2.2->focal-loss) (3.0.4)\n",
      "Requirement already satisfied: oauthlib>=3.0.0 in /usr/local/lib/python3.8/dist-packages (from requests-oauthlib>=0.7.0->google-auth-oauthlib<0.5,>=0.4.1->tensorboard<2.11,>=2.10->tensorflow>=2.2->focal-loss) (3.2.2)\n",
      "Requirement already satisfied: pyparsing!=3.0.5,>=2.0.2 in /usr/local/lib/python3.8/dist-packages (from packaging->tensorflow>=2.2->focal-loss) (3.0.9)\n",
      "Installing collected packages: focal-loss\n",
      "Successfully installed focal-loss-0.0.7\n"
     ]
    }
   ],
   "source": [
    "pip install focal-loss"
   ]
  },
  {
   "cell_type": "markdown",
   "source": [
    "# GDrive connection"
   ],
   "metadata": {
    "collapsed": false
   }
  },
  {
   "cell_type": "code",
   "execution_count": null,
   "metadata": {
    "colab": {
     "base_uri": "https://localhost:8080/"
    },
    "id": "DtPN1GPqhk2h",
    "outputId": "cec951f4-baaf-43ad-bf3e-d376ec3f37cf"
   },
   "outputs": [
    {
     "output_type": "stream",
     "name": "stdout",
     "text": [
      "Mounted at /gdrive\n"
     ]
    }
   ],
   "source": [
    "from google.colab import drive\n",
    "drive.mount('/gdrive')"
   ]
  },
  {
   "cell_type": "code",
   "execution_count": null,
   "metadata": {
    "colab": {
     "base_uri": "https://localhost:8080/"
    },
    "id": "9LuTPiZoiDMo",
    "outputId": "fc711d95-d264-405f-f5ae-8358d096da90"
   },
   "outputs": [
    {
     "output_type": "stream",
     "name": "stdout",
     "text": [
      "/gdrive/.shortcut-targets-by-id/12JPPVxLkWQkx591Su9530FzjA6jNjEnR/HMWK2\n"
     ]
    }
   ],
   "source": [
    "%cd /gdrive/My Drive/HMWK2"
   ]
  },
  {
   "cell_type": "markdown",
   "source": [
    "# Imports"
   ],
   "metadata": {
    "collapsed": false
   }
  },
  {
   "cell_type": "code",
   "execution_count": null,
   "metadata": {
    "id": "aXNePTG8pm5V"
   },
   "outputs": [],
   "source": [
    "from focal_loss import SparseCategoricalFocalLoss\n",
    "import os\n",
    "import random\n",
    "import seaborn as sns\n",
    "import matplotlib.pyplot as plt\n",
    "plt.rc('font', size=16) \n",
    "from sklearn.metrics import accuracy_score, f1_score, precision_score, recall_score\n",
    "from sklearn.metrics import confusion_matrix\n",
    "from sklearn.preprocessing import MinMaxScaler\n",
    "import warnings\n",
    "import logging\n",
    "import numpy as np\n",
    "import pandas as pd\n",
    "import tensorflow as tf\n",
    "from keras.callbacks import *\n",
    "import keras.backend as K\n",
    "from tensorflow.keras.preprocessing.image import ImageDataGenerator\n",
    "from sklearn.model_selection import train_test_split\n",
    "from scipy.interpolate import interp1d\n",
    "from numpy.random import default_rng\n",
    "from sklearn.utils import class_weight\n",
    "tfk = tf.keras\n",
    "tfkl = tf.keras.layers\n"
   ]
  },
  {
   "cell_type": "markdown",
   "source": [
    "# Env Setup"
   ],
   "metadata": {
    "collapsed": false
   }
  },
  {
   "cell_type": "code",
   "execution_count": null,
   "metadata": {
    "id": "bWoltGVmsVAZ"
   },
   "outputs": [],
   "source": [
    "# Fixed random seed to make results as reproducible as possible\n",
    "seed = 42\n",
    "random.seed(seed)\n",
    "os.environ['PYTHONHASHSEED'] = str(seed)\n",
    "np.random.seed(seed)\n",
    "tf.random.set_seed(seed)\n",
    "tf.compat.v1.set_random_seed(seed)"
   ]
  },
  {
   "cell_type": "markdown",
   "metadata": {
    "id": "n3_eckx3iwmC"
   },
   "source": [
    "# Data loading - preprocessing"
   ]
  },
  {
   "cell_type": "markdown",
   "source": [
    "## Functions for time series 2 image conversion"
   ],
   "metadata": {
    "collapsed": false
   }
  },
  {
   "cell_type": "markdown",
   "source": [
    "This function is used to normalize an array between 0 and 255 using NumPy library. Here's how it works:\n",
    "\n",
    "The function takes an input array as an argument.\n",
    "- For each row (i.e., first dimension) of the input array, the function flattens it to a 1D array using the flatten() method.\n",
    "- The interp() function from NumPy is used to map the values from their original range (determined by flattened.min() and flattened.max()) to the desired range of 0 to 255.\n",
    "- The reshape() method is used to transform the 1D array back into its original shape.\n",
    "- The normalized row is then assigned back to its original position in the input array.\n",
    "- The normalized array is returned as the output.\n",
    "\n",
    "In this project it is used to map a time series into 0-255 values to resemble 8-bit pixel values"
   ],
   "metadata": {
    "collapsed": false
   }
  },
  {
   "cell_type": "code",
   "execution_count": null,
   "metadata": {
    "id": "N3AWq3xxpLFd"
   },
   "outputs": [],
   "source": [
    "def shifter0255(array):\n",
    "  for i in range(array.shape[0]):\n",
    "    flattened = array[i].flatten()\n",
    "    shifted = np.interp(flattened, (flattened.min(), flattened.max()), (0, 255))\n",
    "    array[i] = np.reshape(shifted, array[i].shape)"
   ]
  },
  {
   "cell_type": "markdown",
   "source": [],
   "metadata": {
    "collapsed": false
   }
  },
  {
   "cell_type": "markdown",
   "source": [
    "This function is used to transform a time series data into an image format using NumPy library. Here's how it works:\n",
    "\n",
    "The function takes a time series of size 36x6 as input, which is represented as a 2D NumPy array x.\n",
    "- The input array is then repeated six times along the last axis using the np.repeat() function with the repeats parameter set to 6, resulting in a 2D NumPy array x with shape (36, 36).\n",
    "- The shifter0255() function is then applied to the x array to normalize the values between 0 and 255.\n",
    "- The normalized x array is then stacked into a 3D NumPy array x with shape (36, 36, 3) using the np.stack() function, where the last dimension is set to 3 to create an RGB image by copying the normalized array to each of the color channels.\n",
    "- The resulting 3D array x is returned as the output.\n",
    "\n",
    "- Overall, this function can be useful for visualizing time series data in an image format, where each row of the image represents a time step and the columns represent different features."
   ],
   "metadata": {
    "collapsed": false
   }
  },
  {
   "cell_type": "code",
   "execution_count": null,
   "metadata": {
    "id": "KzcWPbho-Wl-"
   },
   "outputs": [],
   "source": [
    "def timeSeriesToImage(x):\n",
    "  x = np.repeat(x, repeats = 6, axis = -1)\n",
    "  shifter0255(x)\n",
    "  x = np.stack([x, x, x], axis = -1)\n",
    "  return x"
   ]
  },
  {
   "cell_type": "markdown",
   "source": [
    "## Time series augmentations"
   ],
   "metadata": {
    "collapsed": false
   }
  },
  {
   "cell_type": "code",
   "execution_count": null,
   "metadata": {
    "id": "kAP-06xd6r6f"
   },
   "outputs": [],
   "source": [
    "def jitter(x, sigma=0.03):\n",
    "    # https://arxiv.org/pdf/1706.00527.pdf\n",
    "    return x + np.random.normal(loc=0., scale=sigma, size=x.shape)\n",
    "\n",
    "def scaling(x, sigma=0.1):\n",
    "    # https://arxiv.org/pdf/1706.00527.pdf\n",
    "    factor = np.random.normal(loc=1., scale=sigma, size=(x.shape[0],x.shape[2]))\n",
    "    return np.multiply(x, factor[:,np.newaxis,:])\n",
    "\n",
    "\n",
    "def time_warp(x, sigma=0.2, knot=4):\n",
    "    from scipy.interpolate import CubicSpline\n",
    "    orig_steps = np.arange(x.shape[1])\n",
    "    \n",
    "    random_warps = np.random.normal(loc=1.0, scale=sigma, size=(x.shape[0], knot+2, x.shape[2]))\n",
    "    warp_steps = (np.ones((x.shape[2],1))*(np.linspace(0, x.shape[1]-1., num=knot+2))).T\n",
    "    \n",
    "    ret = np.zeros_like(x)\n",
    "    for i, pat in enumerate(x):\n",
    "        for dim in range(x.shape[2]):\n",
    "            time_warp = CubicSpline(warp_steps[:,dim], warp_steps[:,dim] * random_warps[i,:,dim])(orig_steps)\n",
    "            scale = (x.shape[1]-1)/time_warp[-1]\n",
    "            ret[i,:,dim] = np.interp(orig_steps, np.clip(scale*time_warp, 0, x.shape[1]-1), pat[:,dim]).T\n",
    "    return ret\n",
    "\n",
    "\n",
    "def window_slice(x, reduce_ratio=0.9):\n",
    "    # https://halshs.archives-ouvertes.fr/halshs-01357973/document\n",
    "    target_len = np.ceil(reduce_ratio*x.shape[1]).astype(int)\n",
    "    if target_len >= x.shape[1]:\n",
    "        return x\n",
    "    starts = np.random.randint(low=0, high=x.shape[1]-target_len, size=(x.shape[0])).astype(int)\n",
    "    ends = (target_len + starts).astype(int)\n",
    "    \n",
    "    ret = np.zeros_like(x)\n",
    "    for i, pat in enumerate(x):\n",
    "        for dim in range(x.shape[2]):\n",
    "            ret[i,:,dim] = np.interp(np.linspace(0, target_len, num=x.shape[1]), np.arange(target_len), pat[starts[i]:ends[i],dim]).T\n",
    "    return ret\n",
    "\n",
    "def window_warp(x, window_ratio=0.1, scales=[0.5, 2.]):\n",
    "    # https://halshs.archives-ouvertes.fr/halshs-01357973/document\n",
    "    warp_scales = np.random.choice(scales, x.shape[0])\n",
    "    warp_size = np.ceil(window_ratio*x.shape[1]).astype(int)\n",
    "    window_steps = np.arange(warp_size)\n",
    "\n",
    "    window_starts = np.random.randint(low=1, high=x.shape[1]-warp_size-1, size=(x.shape[0])).astype(int)\n",
    "    window_ends = (window_starts + warp_size).astype(int)\n",
    "\n",
    "    ret = np.zeros_like(x)\n",
    "    for i, pat in enumerate(x):\n",
    "        for dim in range(x.shape[2]):\n",
    "            start_seg = pat[:window_starts[i],dim]\n",
    "            window_seg = np.interp(np.linspace(0, warp_size-1, num=int(warp_size*warp_scales[i])), window_steps, pat[window_starts[i]:window_ends[i],dim])\n",
    "            end_seg = pat[window_ends[i]:,dim]\n",
    "            warped = np.concatenate((start_seg, window_seg, end_seg))                \n",
    "            ret[i,:,dim] = np.interp(np.arange(x.shape[1]), np.linspace(0, x.shape[1]-1., num=warped.size), warped).T\n",
    "    return ret\n",
    "\n",
    "def magnitude_warp(x, sigma=0.2, knot=4):\n",
    "    from scipy.interpolate import CubicSpline\n",
    "    orig_steps = np.arange(x.shape[1])\n",
    "\n",
    "    random_warps = np.random.normal(loc=1.0, scale=sigma, size=(x.shape[0], knot+2, x.shape[2]))\n",
    "    warp_steps = (np.ones((x.shape[2],1))*(np.linspace(0, x.shape[1]-1., num=knot+2))).T\n",
    "    ret = np.zeros_like(x)\n",
    "    for i, pat in enumerate(x):\n",
    "        warper = np.array([CubicSpline(warp_steps[:,dim], random_warps[i,:,dim])(orig_steps) for dim in range(x.shape[2])]).T\n",
    "        ret[i] = pat * warper\n",
    "\n",
    "    return ret\n",
    "\n",
    "augmentations = [jitter, scaling, time_warp, window_slice, window_warp, magnitude_warp]\n",
    "\n",
    "def apply_random_aug(x, y):\n",
    "    for i in range(x.shape[0]):\n",
    "        s = np.expand_dims(x[i], axis = 0)\n",
    "        yi = np.expand_dims(y[i], axis = 0)\n",
    "        rng = default_rng()\n",
    "        indexes = rng.choice(len(augmentations), size=2, replace=False)\n",
    "\n",
    "        for index in indexes:\n",
    "            x = np.append(x, augmentations[index](s), axis = 0)\n",
    "            y = np.append(y, yi, axis = 0)\n",
    "\n",
    "    return x, y"
   ]
  },
  {
   "cell_type": "markdown",
   "source": [
    "These functions are used to scale and normalize a 3D NumPy array (i.e., an array of 2D arrays) sample-wise using NumPy library. In particular for this project the considered 3D array is the one containing the needed data, so an array of time series. Here's how they work:\n",
    "\n",
    "- The scalerSampleWise() function takes a 3D NumPy array array as input, where the first dimension represents the time series samples, and the other two dimensions represent the time series (time steps x features). The function then iterates over each sample using a for loop and calculates the maximum and minimum values for each sample using the max() and min() methods, respectively.\n",
    "- The function then normalizes each sample by subtracting the minimum value and dividing by the range (i.e., max-min), which scales the sample between 0 and 1.\n",
    "- The normalizerSampleWise() function takes a 3D NumPy array array as input, where the first dimension represents the samples, and the other two dimensions represent the features. The function then iterates over each sample using a for loop and calculates the mean and standard deviation for each sample using the mean() and std() methods, respectively.\n",
    "- The function then normalizes each sample by subtracting the mean and dividing by the standard deviation, which scales the sample to have a mean of 0 and a standard deviation of 1.\n",
    "- Both functions modify the input array in place and return the modified array as output."
   ],
   "metadata": {
    "collapsed": false
   }
  },
  {
   "cell_type": "code",
   "execution_count": null,
   "metadata": {
    "id": "__183pn56YqI"
   },
   "outputs": [],
   "source": [
    "def scalerSampleWise(array):\n",
    "    for i in range(array.shape[0]):\n",
    "        max = array[i].max()\n",
    "        min = array[i].min()\n",
    "\n",
    "        array[i] = (array[i]-min)/(max-min)\n",
    "\n",
    "    return array\n",
    "\n",
    "\n",
    "def normalizerSampleWise(array):\n",
    "    for i in range(array.shape[0]):\n",
    "        mean = array[i].mean()\n",
    "        std = array[i].std()\n",
    "\n",
    "        array[i] = (array[i]-mean)/std\n",
    "\n",
    "    return array"
   ]
  },
  {
   "cell_type": "code",
   "execution_count": null,
   "metadata": {
    "id": "mgaVZG07x4-a"
   },
   "outputs": [],
   "source": [
    "x_data_path = \"x_train.npy\"\n",
    "y_data_path = \"y_train.npy\"\n",
    "\n",
    "x_data = np.load(x_data_path)\n",
    "y_data = np.load(y_data_path)"
   ]
  },
  {
   "cell_type": "markdown",
   "source": [
    "## Stratified Split"
   ],
   "metadata": {
    "collapsed": false
   }
  },
  {
   "cell_type": "code",
   "execution_count": null,
   "metadata": {
    "id": "GKXupgjnr7Dd"
   },
   "outputs": [],
   "source": [
    "X_train, X_test, y_train, y_test = train_test_split(x_data, y_data, test_size = 0.2, random_state = seed, stratify = y_data)\n",
    "X_train, X_val, y_train, y_val = train_test_split(X_train, y_train, test_size = 0.1, random_state = seed, stratify = y_train)"
   ]
  },
  {
   "cell_type": "code",
   "execution_count": null,
   "metadata": {
    "colab": {
     "base_uri": "https://localhost:8080/"
    },
    "id": "TeofifYb2-Yh",
    "outputId": "fcfc7c84-a93e-4393-f5fa-57a3ba2782a1"
   },
   "outputs": [
    {
     "output_type": "execute_result",
     "data": {
      "text/plain": [
       "((1748, 36, 6), (486, 36, 6), (195, 36, 6))"
      ]
     },
     "metadata": {},
     "execution_count": 29
    }
   ],
   "source": [
    "X_train.shape, X_test.shape, X_val.shape"
   ]
  },
  {
   "cell_type": "code",
   "execution_count": null,
   "metadata": {
    "id": "KLea_h9y9svZ"
   },
   "outputs": [],
   "source": [
    "X_train = x_data\n",
    "y_train = y_data"
   ]
  },
  {
   "cell_type": "markdown",
   "source": [
    "## Data augmentation"
   ],
   "metadata": {
    "collapsed": false
   }
  },
  {
   "cell_type": "code",
   "execution_count": null,
   "metadata": {
    "id": "w9XO4ihx-jp5"
   },
   "outputs": [],
   "source": [
    "X_train, y_train = apply_random_aug(X_train, y_train)"
   ]
  },
  {
   "cell_type": "markdown",
   "source": [
    "## Convert time series data to images"
   ],
   "metadata": {
    "collapsed": false
   }
  },
  {
   "cell_type": "code",
   "execution_count": null,
   "metadata": {
    "id": "fE6IZh6A_Pep"
   },
   "outputs": [],
   "source": [
    "X_train1 = timeSeriesToImage(X_train)\n",
    "X_test1 = timeSeriesToImage(X_test)\n",
    "X_val1 = timeSeriesToImage(X_val)"
   ]
  },
  {
   "cell_type": "code",
   "execution_count": null,
   "metadata": {
    "colab": {
     "base_uri": "https://localhost:8080/"
    },
    "id": "tFZ1nPpo_yQD",
    "outputId": "415d1084-ed68-407c-c7ba-e8f1a2d370f5"
   },
   "outputs": [
    {
     "output_type": "stream",
     "name": "stdout",
     "text": [
      "(7287, 36, 36, 3)\n"
     ]
    }
   ],
   "source": [
    "print(X_train1.shape)"
   ]
  },
  {
   "cell_type": "markdown",
   "source": [
    "## Normalize & Standardize time series data"
   ],
   "metadata": {
    "collapsed": false
   }
  },
  {
   "cell_type": "code",
   "execution_count": null,
   "outputs": [],
   "source": [
    "X_train = scalerSampleWise(X_train)\n",
    "X_test = scalerSampleWise(X_test)\n",
    "X_val = scalerSampleWise(X_val)\n",
    "\n",
    "X_train = normalizerSampleWise(X_train)\n",
    "X_test = normalizerSampleWise(X_test)\n",
    "X_val = normalizerSampleWise(X_val)"
   ],
   "metadata": {
    "collapsed": false
   }
  },
  {
   "cell_type": "markdown",
   "source": [
    "# Visualize time series images"
   ],
   "metadata": {
    "collapsed": false
   }
  },
  {
   "cell_type": "code",
   "source": [
    "import matplotlib.pyplot as plt\n",
    "plt.rcParams[\"figure.figsize\"] = (50,50)"
   ],
   "metadata": {
    "id": "mxiKfCWRB8SD"
   },
   "execution_count": null,
   "outputs": []
  },
  {
   "cell_type": "markdown",
   "source": [
    "## 36 X 6 time series image"
   ],
   "metadata": {
    "collapsed": false
   }
  },
  {
   "cell_type": "code",
   "source": [
    "plt.imshow(x_data[1], cmap=\"gray\")\n",
    "plt.axis(\"off\")\n",
    "plt.savefig('timeseriesImageBefore.png', dpi=100)"
   ],
   "metadata": {
    "colab": {
     "base_uri": "https://localhost:8080/",
     "height": 1000
    },
    "id": "Plkoima8_Sru",
    "outputId": "dd6e64ab-acb9-435c-cbd9-ed508e901475"
   },
   "execution_count": null,
   "outputs": [
    {
     "output_type": "display_data",
     "data": {
      "text/plain": [
       "<Figure size 3600x3600 with 1 Axes>"
      ],
      "image/png": "[encoded data removed]"
     },
     "metadata": {
      "needs_background": "light"
     }
    }
   ]
  },
  {
   "cell_type": "markdown",
   "source": [
    "# 36 X 36 x 3 Time series image"
   ],
   "metadata": {
    "collapsed": false
   }
  },
  {
   "cell_type": "code",
   "source": [
    "plt.imshow(X_train1[1]/255)\n",
    "plt.axis(\"off\")\n",
    "plt.savefig('timeseriesImageAfter.png', dpi=100)"
   ],
   "metadata": {
    "colab": {
     "base_uri": "https://localhost:8080/",
     "height": 1000
    },
    "id": "tt-XpGgE_Pw6",
    "outputId": "18489cc0-79ac-4fe7-d085-8e1ac33eb138"
   },
   "execution_count": null,
   "outputs": [
    {
     "output_type": "display_data",
     "data": {
      "text/plain": [
       "<Figure size 3600x3600 with 1 Axes>"
      ],
      "image/png": "[encoded data removed]"
     },
     "metadata": {
      "needs_background": "light"
     }
    }
   ]
  },
  {
   "cell_type": "code",
   "execution_count": null,
   "metadata": {
    "colab": {
     "base_uri": "https://localhost:8080/",
     "height": 1000
    },
    "id": "8ytNYcN2Hc36",
    "outputId": "a87b3092-9097-43da-cc00-1f945dda272b"
   },
   "outputs": [
    {
     "data": {
      "image/png": "[encoded data removed]",
      "text/plain": [
       "<Figure size 1440x1440 with 20 Axes>"
      ]
     },
     "metadata": {},
     "output_type": "display_data"
    }
   ],
   "source": [
    "num_img = 20\n",
    "\n",
    "fig, axes = plt.subplots(5, num_img//5, figsize=(20,num_img))\n",
    "axes = axes.flatten()\n",
    "for i in range(num_img):\n",
    "    ax = axes[i]\n",
    "    ax.imshow(X_test1[i]/255)\n",
    "    ax.title.set_text(\"class: \" + str(y_test[i]))\n",
    "    ax.axis('off')\n",
    "plt.tight_layout()\n",
    "plt.show()"
   ]
  },
  {
   "cell_type": "markdown",
   "source": [
    "# Tensorflow Dataset to handle the 2 types of inputs"
   ],
   "metadata": {
    "collapsed": false
   }
  },
  {
   "cell_type": "code",
   "execution_count": null,
   "metadata": {
    "id": "rCKwrbY_Eaj1"
   },
   "outputs": [],
   "source": [
    "BATCH_SIZE = 16\n",
    "SHUFFLE_BUFFER_SIZE = 1000000\n",
    "train_dataset = tf.data.Dataset.from_tensor_slices((X_train, y_train))\n",
    "test_dataset = tf.data.Dataset.from_tensor_slices((X_test, y_test))\n",
    "val_dataset = tf.data.Dataset.from_tensor_slices((X_val, y_val))\n",
    "train_dataset = train_dataset.shuffle(SHUFFLE_BUFFER_SIZE, reshuffle_each_iteration= True).batch(BATCH_SIZE)\n",
    "test_dataset = test_dataset.shuffle(SHUFFLE_BUFFER_SIZE, reshuffle_each_iteration=True).batch(BATCH_SIZE)\n",
    "val_dataset= val_dataset.shuffle(SHUFFLE_BUFFER_SIZE, reshuffle_each_iteration=True).batch(BATCH_SIZE)\n",
    "\n",
    "\n",
    "\n",
    "train_dataset1 = tf.data.Dataset.from_tensor_slices(({'input1': X_train1, 'input2': X_train}, y_train))\n",
    "test_dataset1 = tf.data.Dataset.from_tensor_slices(({'input1': X_test1, 'input2': X_test},y_test))\n",
    "val_dataset1 = tf.data.Dataset.from_tensor_slices(({'input1': X_val1, 'input2': X_val},y_val))\n",
    "train_dataset1 = train_dataset1.shuffle(SHUFFLE_BUFFER_SIZE, reshuffle_each_iteration= True).batch(BATCH_SIZE)\n",
    "test_dataset1 = test_dataset1.shuffle(SHUFFLE_BUFFER_SIZE, reshuffle_each_iteration=True).batch(BATCH_SIZE)\n",
    "val_dataset1 = val_dataset1.shuffle(SHUFFLE_BUFFER_SIZE, reshuffle_each_iteration=True).batch(BATCH_SIZE)"
   ]
  },
  {
   "cell_type": "markdown",
   "metadata": {
    "id": "Mi9TiYH0nrW9"
   },
   "source": [
    "# Cyclical LR"
   ]
  },
  {
   "cell_type": "markdown",
   "source": [
    "Cyclical learning rate (CLR) is a technique used in deep learning that involves varying the learning rate of the optimizer during training. Instead of using a fixed learning rate throughout the entire training process, the learning rate is gradually increased and then decreased in a cyclical manner. This technique was introduced by Leslie N. Smith in 2015.\n",
    "\n",
    "The idea behind CLR is to allow the model to explore a wider range of learning rates and find the optimal learning rate for the given problem. This is achieved by gradually increasing the learning rate from a lower bound to an upper bound and then decreasing it back to the lower bound. This cycle can be repeated multiple times during the training process.\n",
    "\n",
    "The benefits of CLR include faster convergence to the optimal solution and better generalization performance of the model. It can also help prevent the model from getting stuck in local minima by allowing it to escape to a different part of the loss landscape.\n",
    "\n",
    "CLR can be implemented using various techniques, including triangular learning rate policy, triangular2 learning rate policy, and exponential learning rate policy. These policies differ in how the learning rate is varied over each cycle. The choice of policy depends on the specific problem and the architecture of the model being trained."
   ],
   "metadata": {
    "collapsed": false
   }
  },
  {
   "cell_type": "code",
   "execution_count": null,
   "metadata": {
    "id": "Cd9HkdlweEg4"
   },
   "outputs": [],
   "source": [
    "class CyclicLR(Callback):\n",
    "    \"\"\"This callback implements a cyclical learning rate policy (CLR).\n",
    "    The method cycles the learning rate between two boundaries with\n",
    "    some constant frequency, as detailed in this paper (https://arxiv.org/abs/1506.01186).\n",
    "    The amplitude of the cycle can be scaled on a per-iteration or \n",
    "    per-cycle basis.\n",
    "    This class has three built-in policies, as put forth in the paper.\n",
    "    \"triangular\":\n",
    "        A basic triangular cycle w/ no amplitude scaling.\n",
    "    \"triangular2\":\n",
    "        A basic triangular cycle that scales initial amplitude by half each cycle.\n",
    "    \"exp_range\":\n",
    "        A cycle that scales initial amplitude by gamma**(cycle iterations) at each \n",
    "        cycle iteration.\n",
    "    For more detail, please see paper.\n",
    "    \n",
    "    # Example\n",
    "        ```python\n",
    "            clr = CyclicLR(base_lr=0.001, max_lr=0.006,\n",
    "                                step_size=2000., mode='triangular')\n",
    "            model.fit(X_train, Y_train, callbacks=[clr])\n",
    "        ```\n",
    "    \n",
    "    Class also supports custom scaling functions:\n",
    "        ```python\n",
    "            clr_fn = lambda x: 0.5*(1+np.sin(x*np.pi/2.))\n",
    "            clr = CyclicLR(base_lr=0.001, max_lr=0.006,\n",
    "                                step_size=2000., scale_fn=clr_fn,\n",
    "                                scale_mode='cycle')\n",
    "            model.fit(X_train, Y_train, callbacks=[clr])\n",
    "        ```    \n",
    "    # Arguments\n",
    "        base_lr: initial learning rate which is the\n",
    "            lower boundary in the cycle.\n",
    "        max_lr: upper boundary in the cycle. Functionally,\n",
    "            it defines the cycle amplitude (max_lr - base_lr).\n",
    "            The lr at any cycle is the sum of base_lr\n",
    "            and some scaling of the amplitude; therefore \n",
    "            max_lr may not actually be reached depending on\n",
    "            scaling function.\n",
    "        step_size: number of training iterations per\n",
    "            half cycle. Authors suggest setting step_size\n",
    "            2-8 x training iterations in epoch.\n",
    "        mode: one of {triangular, triangular2, exp_range}.\n",
    "            Default 'triangular'.\n",
    "            Values correspond to policies detailed above.\n",
    "            If scale_fn is not None, this argument is ignored.\n",
    "        gamma: constant in 'exp_range' scaling function:\n",
    "            gamma**(cycle iterations)\n",
    "        scale_fn: Custom scaling policy defined by a single\n",
    "            argument lambda function, where \n",
    "            0 <= scale_fn(x) <= 1 for all x >= 0.\n",
    "            mode paramater is ignored \n",
    "        scale_mode: {'cycle', 'iterations'}.\n",
    "            Defines whether scale_fn is evaluated on \n",
    "            cycle number or cycle iterations (training\n",
    "            iterations since start of cycle). Default is 'cycle'.\n",
    "    \"\"\"\n",
    "\n",
    "    def __init__(self, base_lr=0.001, max_lr=0.006, step_size=2000., mode='triangular',\n",
    "                 gamma=1., scale_fn=None, scale_mode='cycle'):\n",
    "        super(CyclicLR, self).__init__()\n",
    "\n",
    "        self.base_lr = base_lr\n",
    "        self.max_lr = max_lr\n",
    "        self.step_size = step_size\n",
    "        self.mode = mode\n",
    "        self.gamma = gamma\n",
    "        if scale_fn == None:\n",
    "            if self.mode == 'triangular':\n",
    "                self.scale_fn = lambda x: 1.\n",
    "                self.scale_mode = 'cycle'\n",
    "            elif self.mode == 'triangular2':\n",
    "                self.scale_fn = lambda x: 1/(2.**(x-1))\n",
    "                self.scale_mode = 'cycle'\n",
    "            elif self.mode == 'exp_range':\n",
    "                self.scale_fn = lambda x: gamma**(x)\n",
    "                self.scale_mode = 'iterations'\n",
    "        else:\n",
    "            self.scale_fn = scale_fn\n",
    "            self.scale_mode = scale_mode\n",
    "        self.clr_iterations = 0.\n",
    "        self.trn_iterations = 0.\n",
    "        self.history = {}\n",
    "        self._reset()\n",
    "\n",
    "    def _reset(self, new_base_lr=None, new_max_lr=None,\n",
    "               new_step_size=None):\n",
    "        \"\"\"Resets cycle iterations.\n",
    "        Optional boundary/step size adjustment.\n",
    "        \"\"\"\n",
    "        if new_base_lr != None:\n",
    "            self.base_lr = new_base_lr\n",
    "        if new_max_lr != None:\n",
    "            self.max_lr = new_max_lr\n",
    "        if new_step_size != None:\n",
    "            self.step_size = new_step_size\n",
    "        self.clr_iterations = 0.\n",
    "\n",
    "    def clr(self):\n",
    "        cycle = np.floor(1+self.clr_iterations/(2*self.step_size))\n",
    "        x = np.abs(self.clr_iterations/self.step_size - 2*cycle + 1)\n",
    "        if self.scale_mode == 'cycle':\n",
    "            return self.base_lr + (self.max_lr-self.base_lr)*np.maximum(0, (1-x))*self.scale_fn(cycle)\n",
    "        else:\n",
    "            return self.base_lr + (self.max_lr-self.base_lr)*np.maximum(0, (1-x))*self.scale_fn(self.clr_iterations)\n",
    "        \n",
    "    def on_train_begin(self, logs={}):\n",
    "        logs = logs or {}\n",
    "\n",
    "        if self.clr_iterations == 0:\n",
    "            K.set_value(self.model.optimizer.lr, self.base_lr)\n",
    "        else:\n",
    "            K.set_value(self.model.optimizer.lr, self.clr())\n",
    "\n",
    "    def on_batch_end(self, epoch, logs=None):\n",
    "        \n",
    "        logs = logs or {}\n",
    "        self.trn_iterations += 1\n",
    "        self.clr_iterations += 1\n",
    "\n",
    "        self.history.setdefault('lr', []).append(K.get_value(self.model.optimizer.lr))\n",
    "        self.history.setdefault('iterations', []).append(self.trn_iterations)\n",
    "\n",
    "        for k, v in logs.items():\n",
    "            self.history.setdefault(k, []).append(v)\n",
    "        \n",
    "        K.set_value(self.model.optimizer.lr, self.clr())"
   ]
  },
  {
   "cell_type": "markdown",
   "source": [
    "# Convnext, vision-based"
   ],
   "metadata": {
    "collapsed": false
   }
  },
  {
   "cell_type": "code",
   "execution_count": null,
   "metadata": {
    "id": "XJ86Dmtk6Tyu"
   },
   "outputs": [],
   "source": [
    "input_shape = (36, 36, 3)\n",
    "classes = y_train.shape[-1]\n",
    "epochs = 1000"
   ]
  },
  {
   "cell_type": "markdown",
   "source": [
    "## Class weights"
   ],
   "metadata": {
    "collapsed": false
   }
  },
  {
   "cell_type": "code",
   "execution_count": null,
   "metadata": {
    "id": "jwcugUvAQw1h"
   },
   "outputs": [],
   "source": [
    "class_weights = class_weight.compute_class_weight('balanced', classes = np.unique(y_train),y = y_train)"
   ]
  },
  {
   "cell_type": "markdown",
   "source": [
    "## Supernet instantiation"
   ],
   "metadata": {
    "collapsed": false
   }
  },
  {
   "cell_type": "code",
   "execution_count": null,
   "metadata": {
    "colab": {
     "base_uri": "https://localhost:8080/"
    },
    "id": "54c3kuZW5ht-",
    "outputId": "ca8e403a-bc30-4c05-e0fb-7c1c107b2d54"
   },
   "outputs": [
    {
     "name": "stdout",
     "output_type": "stream",
     "text": [
      "295\n",
      "Model: \"convnext_large\"\n",
      "__________________________________________________________________________________________________\n",
      " Layer (type)                   Output Shape         Param #     Connected to                     \n",
      "==================================================================================================\n",
      " input_3 (InputLayer)           [(None, 224, 224, 3  0           []                               \n",
      "                                )]                                                                \n",
      "                                                                                                  \n",
      " convnext_large_prestem_normali  (None, 224, 224, 3)  0          ['input_3[0][0]']                \n",
      " zation (Normalization)                                                                           \n",
      "                                                                                                  \n",
      " convnext_large_stem (Sequentia  (None, 56, 56, 192)  9792       ['convnext_large_prestem_normaliz\n",
      " l)                                                              ation[0][0]']                    \n",
      "                                                                                                  \n",
      " convnext_large_stage_0_block_0  (None, 56, 56, 192)  9600       ['convnext_large_stem[0][0]']    \n",
      " _depthwise_conv (Conv2D)                                                                         \n",
      "                                                                                                  \n",
      " convnext_large_stage_0_block_0  (None, 56, 56, 192)  384        ['convnext_large_stage_0_block_0_\n",
      " _layernorm (LayerNormalization                                  depthwise_conv[0][0]']           \n",
      " )                                                                                                \n",
      "                                                                                                  \n",
      " convnext_large_stage_0_block_0  (None, 56, 56, 768)  148224     ['convnext_large_stage_0_block_0_\n",
      " _pointwise_conv_1 (Dense)                                       layernorm[0][0]']                \n",
      "                                                                                                  \n",
      " convnext_large_stage_0_block_0  (None, 56, 56, 768)  0          ['convnext_large_stage_0_block_0_\n",
      " _gelu (Activation)                                              pointwise_conv_1[0][0]']         \n",
      "                                                                                                  \n",
      " convnext_large_stage_0_block_0  (None, 56, 56, 192)  147648     ['convnext_large_stage_0_block_0_\n",
      " _pointwise_conv_2 (Dense)                                       gelu[0][0]']                     \n",
      "                                                                                                  \n",
      " convnext_large_stage_0_block_0  (None, 56, 56, 192)  192        ['convnext_large_stage_0_block_0_\n",
      " _layer_scale (LayerScale)                                       pointwise_conv_2[0][0]']         \n",
      "                                                                                                  \n",
      " convnext_large_stage_0_block_0  (None, 56, 56, 192)  0          ['convnext_large_stage_0_block_0_\n",
      " _identity (Activation)                                          layer_scale[0][0]']              \n",
      "                                                                                                  \n",
      " tf.__operators__.add_72 (TFOpL  (None, 56, 56, 192)  0          ['convnext_large_stem[0][0]',    \n",
      " ambda)                                                           'convnext_large_stage_0_block_0_\n",
      "                                                                 identity[0][0]']                 \n",
      "                                                                                                  \n",
      " convnext_large_stage_0_block_1  (None, 56, 56, 192)  9600       ['tf.__operators__.add_72[0][0]']\n",
      " _depthwise_conv (Conv2D)                                                                         \n",
      "                                                                                                  \n",
      " convnext_large_stage_0_block_1  (None, 56, 56, 192)  384        ['convnext_large_stage_0_block_1_\n",
      " _layernorm (LayerNormalization                                  depthwise_conv[0][0]']           \n",
      " )                                                                                                \n",
      "                                                                                                  \n",
      " convnext_large_stage_0_block_1  (None, 56, 56, 768)  148224     ['convnext_large_stage_0_block_1_\n",
      " _pointwise_conv_1 (Dense)                                       layernorm[0][0]']                \n",
      "                                                                                                  \n",
      " convnext_large_stage_0_block_1  (None, 56, 56, 768)  0          ['convnext_large_stage_0_block_1_\n",
      " _gelu (Activation)                                              pointwise_conv_1[0][0]']         \n",
      "                                                                                                  \n",
      " convnext_large_stage_0_block_1  (None, 56, 56, 192)  147648     ['convnext_large_stage_0_block_1_\n",
      " _pointwise_conv_2 (Dense)                                       gelu[0][0]']                     \n",
      "                                                                                                  \n",
      " convnext_large_stage_0_block_1  (None, 56, 56, 192)  192        ['convnext_large_stage_0_block_1_\n",
      " _layer_scale (LayerScale)                                       pointwise_conv_2[0][0]']         \n",
      "                                                                                                  \n",
      " convnext_large_stage_0_block_1  (None, 56, 56, 192)  0          ['convnext_large_stage_0_block_1_\n",
      " _identity (Activation)                                          layer_scale[0][0]']              \n",
      "                                                                                                  \n",
      " tf.__operators__.add_73 (TFOpL  (None, 56, 56, 192)  0          ['tf.__operators__.add_72[0][0]',\n",
      " ambda)                                                           'convnext_large_stage_0_block_1_\n",
      "                                                                 identity[0][0]']                 \n",
      "                                                                                                  \n",
      " convnext_large_stage_0_block_2  (None, 56, 56, 192)  9600       ['tf.__operators__.add_73[0][0]']\n",
      " _depthwise_conv (Conv2D)                                                                         \n",
      "                                                                                                  \n",
      " convnext_large_stage_0_block_2  (None, 56, 56, 192)  384        ['convnext_large_stage_0_block_2_\n",
      " _layernorm (LayerNormalization                                  depthwise_conv[0][0]']           \n",
      " )                                                                                                \n",
      "                                                                                                  \n",
      " convnext_large_stage_0_block_2  (None, 56, 56, 768)  148224     ['convnext_large_stage_0_block_2_\n",
      " _pointwise_conv_1 (Dense)                                       layernorm[0][0]']                \n",
      "                                                                                                  \n",
      " convnext_large_stage_0_block_2  (None, 56, 56, 768)  0          ['convnext_large_stage_0_block_2_\n",
      " _gelu (Activation)                                              pointwise_conv_1[0][0]']         \n",
      "                                                                                                  \n",
      " convnext_large_stage_0_block_2  (None, 56, 56, 192)  147648     ['convnext_large_stage_0_block_2_\n",
      " _pointwise_conv_2 (Dense)                                       gelu[0][0]']                     \n",
      "                                                                                                  \n",
      " convnext_large_stage_0_block_2  (None, 56, 56, 192)  192        ['convnext_large_stage_0_block_2_\n",
      " _layer_scale (LayerScale)                                       pointwise_conv_2[0][0]']         \n",
      "                                                                                                  \n",
      " convnext_large_stage_0_block_2  (None, 56, 56, 192)  0          ['convnext_large_stage_0_block_2_\n",
      " _identity (Activation)                                          layer_scale[0][0]']              \n",
      "                                                                                                  \n",
      " tf.__operators__.add_74 (TFOpL  (None, 56, 56, 192)  0          ['tf.__operators__.add_73[0][0]',\n",
      " ambda)                                                           'convnext_large_stage_0_block_2_\n",
      "                                                                 identity[0][0]']                 \n",
      "                                                                                                  \n",
      " convnext_large_downsampling_bl  (None, 28, 28, 384)  295680     ['tf.__operators__.add_74[0][0]']\n",
      " ock_0 (Sequential)                                                                               \n",
      "                                                                                                  \n",
      " convnext_large_stage_1_block_0  (None, 28, 28, 384)  19200      ['convnext_large_downsampling_blo\n",
      " _depthwise_conv (Conv2D)                                        ck_0[0][0]']                     \n",
      "                                                                                                  \n",
      " convnext_large_stage_1_block_0  (None, 28, 28, 384)  768        ['convnext_large_stage_1_block_0_\n",
      " _layernorm (LayerNormalization                                  depthwise_conv[0][0]']           \n",
      " )                                                                                                \n",
      "                                                                                                  \n",
      " convnext_large_stage_1_block_0  (None, 28, 28, 1536  591360     ['convnext_large_stage_1_block_0_\n",
      " _pointwise_conv_1 (Dense)      )                                layernorm[0][0]']                \n",
      "                                                                                                  \n",
      " convnext_large_stage_1_block_0  (None, 28, 28, 1536  0          ['convnext_large_stage_1_block_0_\n",
      " _gelu (Activation)             )                                pointwise_conv_1[0][0]']         \n",
      "                                                                                                  \n",
      " convnext_large_stage_1_block_0  (None, 28, 28, 384)  590208     ['convnext_large_stage_1_block_0_\n",
      " _pointwise_conv_2 (Dense)                                       gelu[0][0]']                     \n",
      "                                                                                                  \n",
      " convnext_large_stage_1_block_0  (None, 28, 28, 384)  384        ['convnext_large_stage_1_block_0_\n",
      " _layer_scale (LayerScale)                                       pointwise_conv_2[0][0]']         \n",
      "                                                                                                  \n",
      " convnext_large_stage_1_block_0  (None, 28, 28, 384)  0          ['convnext_large_stage_1_block_0_\n",
      " _identity (Activation)                                          layer_scale[0][0]']              \n",
      "                                                                                                  \n",
      " tf.__operators__.add_75 (TFOpL  (None, 28, 28, 384)  0          ['convnext_large_downsampling_blo\n",
      " ambda)                                                          ck_0[0][0]',                     \n",
      "                                                                  'convnext_large_stage_1_block_0_\n",
      "                                                                 identity[0][0]']                 \n",
      "                                                                                                  \n",
      " convnext_large_stage_1_block_1  (None, 28, 28, 384)  19200      ['tf.__operators__.add_75[0][0]']\n",
      " _depthwise_conv (Conv2D)                                                                         \n",
      "                                                                                                  \n",
      " convnext_large_stage_1_block_1  (None, 28, 28, 384)  768        ['convnext_large_stage_1_block_1_\n",
      " _layernorm (LayerNormalization                                  depthwise_conv[0][0]']           \n",
      " )                                                                                                \n",
      "                                                                                                  \n",
      " convnext_large_stage_1_block_1  (None, 28, 28, 1536  591360     ['convnext_large_stage_1_block_1_\n",
      " _pointwise_conv_1 (Dense)      )                                layernorm[0][0]']                \n",
      "                                                                                                  \n",
      " convnext_large_stage_1_block_1  (None, 28, 28, 1536  0          ['convnext_large_stage_1_block_1_\n",
      " _gelu (Activation)             )                                pointwise_conv_1[0][0]']         \n",
      "                                                                                                  \n",
      " convnext_large_stage_1_block_1  (None, 28, 28, 384)  590208     ['convnext_large_stage_1_block_1_\n",
      " _pointwise_conv_2 (Dense)                                       gelu[0][0]']                     \n",
      "                                                                                                  \n",
      " convnext_large_stage_1_block_1  (None, 28, 28, 384)  384        ['convnext_large_stage_1_block_1_\n",
      " _layer_scale (LayerScale)                                       pointwise_conv_2[0][0]']         \n",
      "                                                                                                  \n",
      " convnext_large_stage_1_block_1  (None, 28, 28, 384)  0          ['convnext_large_stage_1_block_1_\n",
      " _identity (Activation)                                          layer_scale[0][0]']              \n",
      "                                                                                                  \n",
      " tf.__operators__.add_76 (TFOpL  (None, 28, 28, 384)  0          ['tf.__operators__.add_75[0][0]',\n",
      " ambda)                                                           'convnext_large_stage_1_block_1_\n",
      "                                                                 identity[0][0]']                 \n",
      "                                                                                                  \n",
      " convnext_large_stage_1_block_2  (None, 28, 28, 384)  19200      ['tf.__operators__.add_76[0][0]']\n",
      " _depthwise_conv (Conv2D)                                                                         \n",
      "                                                                                                  \n",
      " convnext_large_stage_1_block_2  (None, 28, 28, 384)  768        ['convnext_large_stage_1_block_2_\n",
      " _layernorm (LayerNormalization                                  depthwise_conv[0][0]']           \n",
      " )                                                                                                \n",
      "                                                                                                  \n",
      " convnext_large_stage_1_block_2  (None, 28, 28, 1536  591360     ['convnext_large_stage_1_block_2_\n",
      " _pointwise_conv_1 (Dense)      )                                layernorm[0][0]']                \n",
      "                                                                                                  \n",
      " convnext_large_stage_1_block_2  (None, 28, 28, 1536  0          ['convnext_large_stage_1_block_2_\n",
      " _gelu (Activation)             )                                pointwise_conv_1[0][0]']         \n",
      "                                                                                                  \n",
      " convnext_large_stage_1_block_2  (None, 28, 28, 384)  590208     ['convnext_large_stage_1_block_2_\n",
      " _pointwise_conv_2 (Dense)                                       gelu[0][0]']                     \n",
      "                                                                                                  \n",
      " convnext_large_stage_1_block_2  (None, 28, 28, 384)  384        ['convnext_large_stage_1_block_2_\n",
      " _layer_scale (LayerScale)                                       pointwise_conv_2[0][0]']         \n",
      "                                                                                                  \n",
      " convnext_large_stage_1_block_2  (None, 28, 28, 384)  0          ['convnext_large_stage_1_block_2_\n",
      " _identity (Activation)                                          layer_scale[0][0]']              \n",
      "                                                                                                  \n",
      " tf.__operators__.add_77 (TFOpL  (None, 28, 28, 384)  0          ['tf.__operators__.add_76[0][0]',\n",
      " ambda)                                                           'convnext_large_stage_1_block_2_\n",
      "                                                                 identity[0][0]']                 \n",
      "                                                                                                  \n",
      " convnext_large_downsampling_bl  (None, 14, 14, 768)  1181184    ['tf.__operators__.add_77[0][0]']\n",
      " ock_1 (Sequential)                                                                               \n",
      "                                                                                                  \n",
      " convnext_large_stage_2_block_0  (None, 14, 14, 768)  38400      ['convnext_large_downsampling_blo\n",
      " _depthwise_conv (Conv2D)                                        ck_1[0][0]']                     \n",
      "                                                                                                  \n",
      " convnext_large_stage_2_block_0  (None, 14, 14, 768)  1536       ['convnext_large_stage_2_block_0_\n",
      " _layernorm (LayerNormalization                                  depthwise_conv[0][0]']           \n",
      " )                                                                                                \n",
      "                                                                                                  \n",
      " convnext_large_stage_2_block_0  (None, 14, 14, 3072  2362368    ['convnext_large_stage_2_block_0_\n",
      " _pointwise_conv_1 (Dense)      )                                layernorm[0][0]']                \n",
      "                                                                                                  \n",
      " convnext_large_stage_2_block_0  (None, 14, 14, 3072  0          ['convnext_large_stage_2_block_0_\n",
      " _gelu (Activation)             )                                pointwise_conv_1[0][0]']         \n",
      "                                                                                                  \n",
      " convnext_large_stage_2_block_0  (None, 14, 14, 768)  2360064    ['convnext_large_stage_2_block_0_\n",
      " _pointwise_conv_2 (Dense)                                       gelu[0][0]']                     \n",
      "                                                                                                  \n",
      " convnext_large_stage_2_block_0  (None, 14, 14, 768)  768        ['convnext_large_stage_2_block_0_\n",
      " _layer_scale (LayerScale)                                       pointwise_conv_2[0][0]']         \n",
      "                                                                                                  \n",
      " convnext_large_stage_2_block_0  (None, 14, 14, 768)  0          ['convnext_large_stage_2_block_0_\n",
      " _identity (Activation)                                          layer_scale[0][0]']              \n",
      "                                                                                                  \n",
      " tf.__operators__.add_78 (TFOpL  (None, 14, 14, 768)  0          ['convnext_large_downsampling_blo\n",
      " ambda)                                                          ck_1[0][0]',                     \n",
      "                                                                  'convnext_large_stage_2_block_0_\n",
      "                                                                 identity[0][0]']                 \n",
      "                                                                                                  \n",
      " convnext_large_stage_2_block_1  (None, 14, 14, 768)  38400      ['tf.__operators__.add_78[0][0]']\n",
      " _depthwise_conv (Conv2D)                                                                         \n",
      "                                                                                                  \n",
      " convnext_large_stage_2_block_1  (None, 14, 14, 768)  1536       ['convnext_large_stage_2_block_1_\n",
      " _layernorm (LayerNormalization                                  depthwise_conv[0][0]']           \n",
      " )                                                                                                \n",
      "                                                                                                  \n",
      " convnext_large_stage_2_block_1  (None, 14, 14, 3072  2362368    ['convnext_large_stage_2_block_1_\n",
      " _pointwise_conv_1 (Dense)      )                                layernorm[0][0]']                \n",
      "                                                                                                  \n",
      " convnext_large_stage_2_block_1  (None, 14, 14, 3072  0          ['convnext_large_stage_2_block_1_\n",
      " _gelu (Activation)             )                                pointwise_conv_1[0][0]']         \n",
      "                                                                                                  \n",
      " convnext_large_stage_2_block_1  (None, 14, 14, 768)  2360064    ['convnext_large_stage_2_block_1_\n",
      " _pointwise_conv_2 (Dense)                                       gelu[0][0]']                     \n",
      "                                                                                                  \n",
      " convnext_large_stage_2_block_1  (None, 14, 14, 768)  768        ['convnext_large_stage_2_block_1_\n",
      " _layer_scale (LayerScale)                                       pointwise_conv_2[0][0]']         \n",
      "                                                                                                  \n",
      " convnext_large_stage_2_block_1  (None, 14, 14, 768)  0          ['convnext_large_stage_2_block_1_\n",
      " _identity (Activation)                                          layer_scale[0][0]']              \n",
      "                                                                                                  \n",
      " tf.__operators__.add_79 (TFOpL  (None, 14, 14, 768)  0          ['tf.__operators__.add_78[0][0]',\n",
      " ambda)                                                           'convnext_large_stage_2_block_1_\n",
      "                                                                 identity[0][0]']                 \n",
      "                                                                                                  \n",
      " convnext_large_stage_2_block_2  (None, 14, 14, 768)  38400      ['tf.__operators__.add_79[0][0]']\n",
      " _depthwise_conv (Conv2D)                                                                         \n",
      "                                                                                                  \n",
      " convnext_large_stage_2_block_2  (None, 14, 14, 768)  1536       ['convnext_large_stage_2_block_2_\n",
      " _layernorm (LayerNormalization                                  depthwise_conv[0][0]']           \n",
      " )                                                                                                \n",
      "                                                                                                  \n",
      " convnext_large_stage_2_block_2  (None, 14, 14, 3072  2362368    ['convnext_large_stage_2_block_2_\n",
      " _pointwise_conv_1 (Dense)      )                                layernorm[0][0]']                \n",
      "                                                                                                  \n",
      " convnext_large_stage_2_block_2  (None, 14, 14, 3072  0          ['convnext_large_stage_2_block_2_\n",
      " _gelu (Activation)             )                                pointwise_conv_1[0][0]']         \n",
      "                                                                                                  \n",
      " convnext_large_stage_2_block_2  (None, 14, 14, 768)  2360064    ['convnext_large_stage_2_block_2_\n",
      " _pointwise_conv_2 (Dense)                                       gelu[0][0]']                     \n",
      "                                                                                                  \n",
      " convnext_large_stage_2_block_2  (None, 14, 14, 768)  768        ['convnext_large_stage_2_block_2_\n",
      " _layer_scale (LayerScale)                                       pointwise_conv_2[0][0]']         \n",
      "                                                                                                  \n",
      " convnext_large_stage_2_block_2  (None, 14, 14, 768)  0          ['convnext_large_stage_2_block_2_\n",
      " _identity (Activation)                                          layer_scale[0][0]']              \n",
      "                                                                                                  \n",
      " tf.__operators__.add_80 (TFOpL  (None, 14, 14, 768)  0          ['tf.__operators__.add_79[0][0]',\n",
      " ambda)                                                           'convnext_large_stage_2_block_2_\n",
      "                                                                 identity[0][0]']                 \n",
      "                                                                                                  \n",
      " convnext_large_stage_2_block_3  (None, 14, 14, 768)  38400      ['tf.__operators__.add_80[0][0]']\n",
      " _depthwise_conv (Conv2D)                                                                         \n",
      "                                                                                                  \n",
      " convnext_large_stage_2_block_3  (None, 14, 14, 768)  1536       ['convnext_large_stage_2_block_3_\n",
      " _layernorm (LayerNormalization                                  depthwise_conv[0][0]']           \n",
      " )                                                                                                \n",
      "                                                                                                  \n",
      " convnext_large_stage_2_block_3  (None, 14, 14, 3072  2362368    ['convnext_large_stage_2_block_3_\n",
      " _pointwise_conv_1 (Dense)      )                                layernorm[0][0]']                \n",
      "                                                                                                  \n",
      " convnext_large_stage_2_block_3  (None, 14, 14, 3072  0          ['convnext_large_stage_2_block_3_\n",
      " _gelu (Activation)             )                                pointwise_conv_1[0][0]']         \n",
      "                                                                                                  \n",
      " convnext_large_stage_2_block_3  (None, 14, 14, 768)  2360064    ['convnext_large_stage_2_block_3_\n",
      " _pointwise_conv_2 (Dense)                                       gelu[0][0]']                     \n",
      "                                                                                                  \n",
      " convnext_large_stage_2_block_3  (None, 14, 14, 768)  768        ['convnext_large_stage_2_block_3_\n",
      " _layer_scale (LayerScale)                                       pointwise_conv_2[0][0]']         \n",
      "                                                                                                  \n",
      " convnext_large_stage_2_block_3  (None, 14, 14, 768)  0          ['convnext_large_stage_2_block_3_\n",
      " _identity (Activation)                                          layer_scale[0][0]']              \n",
      "                                                                                                  \n",
      " tf.__operators__.add_81 (TFOpL  (None, 14, 14, 768)  0          ['tf.__operators__.add_80[0][0]',\n",
      " ambda)                                                           'convnext_large_stage_2_block_3_\n",
      "                                                                 identity[0][0]']                 \n",
      "                                                                                                  \n",
      " convnext_large_stage_2_block_4  (None, 14, 14, 768)  38400      ['tf.__operators__.add_81[0][0]']\n",
      " _depthwise_conv (Conv2D)                                                                         \n",
      "                                                                                                  \n",
      " convnext_large_stage_2_block_4  (None, 14, 14, 768)  1536       ['convnext_large_stage_2_block_4_\n",
      " _layernorm (LayerNormalization                                  depthwise_conv[0][0]']           \n",
      " )                                                                                                \n",
      "                                                                                                  \n",
      " convnext_large_stage_2_block_4  (None, 14, 14, 3072  2362368    ['convnext_large_stage_2_block_4_\n",
      " _pointwise_conv_1 (Dense)      )                                layernorm[0][0]']                \n",
      "                                                                                                  \n",
      " convnext_large_stage_2_block_4  (None, 14, 14, 3072  0          ['convnext_large_stage_2_block_4_\n",
      " _gelu (Activation)             )                                pointwise_conv_1[0][0]']         \n",
      "                                                                                                  \n",
      " convnext_large_stage_2_block_4  (None, 14, 14, 768)  2360064    ['convnext_large_stage_2_block_4_\n",
      " _pointwise_conv_2 (Dense)                                       gelu[0][0]']                     \n",
      "                                                                                                  \n",
      " convnext_large_stage_2_block_4  (None, 14, 14, 768)  768        ['convnext_large_stage_2_block_4_\n",
      " _layer_scale (LayerScale)                                       pointwise_conv_2[0][0]']         \n",
      "                                                                                                  \n",
      " convnext_large_stage_2_block_4  (None, 14, 14, 768)  0          ['convnext_large_stage_2_block_4_\n",
      " _identity (Activation)                                          layer_scale[0][0]']              \n",
      "                                                                                                  \n",
      " tf.__operators__.add_82 (TFOpL  (None, 14, 14, 768)  0          ['tf.__operators__.add_81[0][0]',\n",
      " ambda)                                                           'convnext_large_stage_2_block_4_\n",
      "                                                                 identity[0][0]']                 \n",
      "                                                                                                  \n",
      " convnext_large_stage_2_block_5  (None, 14, 14, 768)  38400      ['tf.__operators__.add_82[0][0]']\n",
      " _depthwise_conv (Conv2D)                                                                         \n",
      "                                                                                                  \n",
      " convnext_large_stage_2_block_5  (None, 14, 14, 768)  1536       ['convnext_large_stage_2_block_5_\n",
      " _layernorm (LayerNormalization                                  depthwise_conv[0][0]']           \n",
      " )                                                                                                \n",
      "                                                                                                  \n",
      " convnext_large_stage_2_block_5  (None, 14, 14, 3072  2362368    ['convnext_large_stage_2_block_5_\n",
      " _pointwise_conv_1 (Dense)      )                                layernorm[0][0]']                \n",
      "                                                                                                  \n",
      " convnext_large_stage_2_block_5  (None, 14, 14, 3072  0          ['convnext_large_stage_2_block_5_\n",
      " _gelu (Activation)             )                                pointwise_conv_1[0][0]']         \n",
      "                                                                                                  \n",
      " convnext_large_stage_2_block_5  (None, 14, 14, 768)  2360064    ['convnext_large_stage_2_block_5_\n",
      " _pointwise_conv_2 (Dense)                                       gelu[0][0]']                     \n",
      "                                                                                                  \n",
      " convnext_large_stage_2_block_5  (None, 14, 14, 768)  768        ['convnext_large_stage_2_block_5_\n",
      " _layer_scale (LayerScale)                                       pointwise_conv_2[0][0]']         \n",
      "                                                                                                  \n",
      " convnext_large_stage_2_block_5  (None, 14, 14, 768)  0          ['convnext_large_stage_2_block_5_\n",
      " _identity (Activation)                                          layer_scale[0][0]']              \n",
      "                                                                                                  \n",
      " tf.__operators__.add_83 (TFOpL  (None, 14, 14, 768)  0          ['tf.__operators__.add_82[0][0]',\n",
      " ambda)                                                           'convnext_large_stage_2_block_5_\n",
      "                                                                 identity[0][0]']                 \n",
      "                                                                                                  \n",
      " convnext_large_stage_2_block_6  (None, 14, 14, 768)  38400      ['tf.__operators__.add_83[0][0]']\n",
      " _depthwise_conv (Conv2D)                                                                         \n",
      "                                                                                                  \n",
      " convnext_large_stage_2_block_6  (None, 14, 14, 768)  1536       ['convnext_large_stage_2_block_6_\n",
      " _layernorm (LayerNormalization                                  depthwise_conv[0][0]']           \n",
      " )                                                                                                \n",
      "                                                                                                  \n",
      " convnext_large_stage_2_block_6  (None, 14, 14, 3072  2362368    ['convnext_large_stage_2_block_6_\n",
      " _pointwise_conv_1 (Dense)      )                                layernorm[0][0]']                \n",
      "                                                                                                  \n",
      " convnext_large_stage_2_block_6  (None, 14, 14, 3072  0          ['convnext_large_stage_2_block_6_\n",
      " _gelu (Activation)             )                                pointwise_conv_1[0][0]']         \n",
      "                                                                                                  \n",
      " convnext_large_stage_2_block_6  (None, 14, 14, 768)  2360064    ['convnext_large_stage_2_block_6_\n",
      " _pointwise_conv_2 (Dense)                                       gelu[0][0]']                     \n",
      "                                                                                                  \n",
      " convnext_large_stage_2_block_6  (None, 14, 14, 768)  768        ['convnext_large_stage_2_block_6_\n",
      " _layer_scale (LayerScale)                                       pointwise_conv_2[0][0]']         \n",
      "                                                                                                  \n",
      " convnext_large_stage_2_block_6  (None, 14, 14, 768)  0          ['convnext_large_stage_2_block_6_\n",
      " _identity (Activation)                                          layer_scale[0][0]']              \n",
      "                                                                                                  \n",
      " tf.__operators__.add_84 (TFOpL  (None, 14, 14, 768)  0          ['tf.__operators__.add_83[0][0]',\n",
      " ambda)                                                           'convnext_large_stage_2_block_6_\n",
      "                                                                 identity[0][0]']                 \n",
      "                                                                                                  \n",
      " convnext_large_stage_2_block_7  (None, 14, 14, 768)  38400      ['tf.__operators__.add_84[0][0]']\n",
      " _depthwise_conv (Conv2D)                                                                         \n",
      "                                                                                                  \n",
      " convnext_large_stage_2_block_7  (None, 14, 14, 768)  1536       ['convnext_large_stage_2_block_7_\n",
      " _layernorm (LayerNormalization                                  depthwise_conv[0][0]']           \n",
      " )                                                                                                \n",
      "                                                                                                  \n",
      " convnext_large_stage_2_block_7  (None, 14, 14, 3072  2362368    ['convnext_large_stage_2_block_7_\n",
      " _pointwise_conv_1 (Dense)      )                                layernorm[0][0]']                \n",
      "                                                                                                  \n",
      " convnext_large_stage_2_block_7  (None, 14, 14, 3072  0          ['convnext_large_stage_2_block_7_\n",
      " _gelu (Activation)             )                                pointwise_conv_1[0][0]']         \n",
      "                                                                                                  \n",
      " convnext_large_stage_2_block_7  (None, 14, 14, 768)  2360064    ['convnext_large_stage_2_block_7_\n",
      " _pointwise_conv_2 (Dense)                                       gelu[0][0]']                     \n",
      "                                                                                                  \n",
      " convnext_large_stage_2_block_7  (None, 14, 14, 768)  768        ['convnext_large_stage_2_block_7_\n",
      " _layer_scale (LayerScale)                                       pointwise_conv_2[0][0]']         \n",
      "                                                                                                  \n",
      " convnext_large_stage_2_block_7  (None, 14, 14, 768)  0          ['convnext_large_stage_2_block_7_\n",
      " _identity (Activation)                                          layer_scale[0][0]']              \n",
      "                                                                                                  \n",
      " tf.__operators__.add_85 (TFOpL  (None, 14, 14, 768)  0          ['tf.__operators__.add_84[0][0]',\n",
      " ambda)                                                           'convnext_large_stage_2_block_7_\n",
      "                                                                 identity[0][0]']                 \n",
      "                                                                                                  \n",
      " convnext_large_stage_2_block_8  (None, 14, 14, 768)  38400      ['tf.__operators__.add_85[0][0]']\n",
      " _depthwise_conv (Conv2D)                                                                         \n",
      "                                                                                                  \n",
      " convnext_large_stage_2_block_8  (None, 14, 14, 768)  1536       ['convnext_large_stage_2_block_8_\n",
      " _layernorm (LayerNormalization                                  depthwise_conv[0][0]']           \n",
      " )                                                                                                \n",
      "                                                                                                  \n",
      " convnext_large_stage_2_block_8  (None, 14, 14, 3072  2362368    ['convnext_large_stage_2_block_8_\n",
      " _pointwise_conv_1 (Dense)      )                                layernorm[0][0]']                \n",
      "                                                                                                  \n",
      " convnext_large_stage_2_block_8  (None, 14, 14, 3072  0          ['convnext_large_stage_2_block_8_\n",
      " _gelu (Activation)             )                                pointwise_conv_1[0][0]']         \n",
      "                                                                                                  \n",
      " convnext_large_stage_2_block_8  (None, 14, 14, 768)  2360064    ['convnext_large_stage_2_block_8_\n",
      " _pointwise_conv_2 (Dense)                                       gelu[0][0]']                     \n",
      "                                                                                                  \n",
      " convnext_large_stage_2_block_8  (None, 14, 14, 768)  768        ['convnext_large_stage_2_block_8_\n",
      " _layer_scale (LayerScale)                                       pointwise_conv_2[0][0]']         \n",
      "                                                                                                  \n",
      " convnext_large_stage_2_block_8  (None, 14, 14, 768)  0          ['convnext_large_stage_2_block_8_\n",
      " _identity (Activation)                                          layer_scale[0][0]']              \n",
      "                                                                                                  \n",
      " tf.__operators__.add_86 (TFOpL  (None, 14, 14, 768)  0          ['tf.__operators__.add_85[0][0]',\n",
      " ambda)                                                           'convnext_large_stage_2_block_8_\n",
      "                                                                 identity[0][0]']                 \n",
      "                                                                                                  \n",
      " convnext_large_stage_2_block_9  (None, 14, 14, 768)  38400      ['tf.__operators__.add_86[0][0]']\n",
      " _depthwise_conv (Conv2D)                                                                         \n",
      "                                                                                                  \n",
      " convnext_large_stage_2_block_9  (None, 14, 14, 768)  1536       ['convnext_large_stage_2_block_9_\n",
      " _layernorm (LayerNormalization                                  depthwise_conv[0][0]']           \n",
      " )                                                                                                \n",
      "                                                                                                  \n",
      " convnext_large_stage_2_block_9  (None, 14, 14, 3072  2362368    ['convnext_large_stage_2_block_9_\n",
      " _pointwise_conv_1 (Dense)      )                                layernorm[0][0]']                \n",
      "                                                                                                  \n",
      " convnext_large_stage_2_block_9  (None, 14, 14, 3072  0          ['convnext_large_stage_2_block_9_\n",
      " _gelu (Activation)             )                                pointwise_conv_1[0][0]']         \n",
      "                                                                                                  \n",
      " convnext_large_stage_2_block_9  (None, 14, 14, 768)  2360064    ['convnext_large_stage_2_block_9_\n",
      " _pointwise_conv_2 (Dense)                                       gelu[0][0]']                     \n",
      "                                                                                                  \n",
      " convnext_large_stage_2_block_9  (None, 14, 14, 768)  768        ['convnext_large_stage_2_block_9_\n",
      " _layer_scale (LayerScale)                                       pointwise_conv_2[0][0]']         \n",
      "                                                                                                  \n",
      " convnext_large_stage_2_block_9  (None, 14, 14, 768)  0          ['convnext_large_stage_2_block_9_\n",
      " _identity (Activation)                                          layer_scale[0][0]']              \n",
      "                                                                                                  \n",
      " tf.__operators__.add_87 (TFOpL  (None, 14, 14, 768)  0          ['tf.__operators__.add_86[0][0]',\n",
      " ambda)                                                           'convnext_large_stage_2_block_9_\n",
      "                                                                 identity[0][0]']                 \n",
      "                                                                                                  \n",
      " convnext_large_stage_2_block_1  (None, 14, 14, 768)  38400      ['tf.__operators__.add_87[0][0]']\n",
      " 0_depthwise_conv (Conv2D)                                                                        \n",
      "                                                                                                  \n",
      " convnext_large_stage_2_block_1  (None, 14, 14, 768)  1536       ['convnext_large_stage_2_block_10\n",
      " 0_layernorm (LayerNormalizatio                                  _depthwise_conv[0][0]']          \n",
      " n)                                                                                               \n",
      "                                                                                                  \n",
      " convnext_large_stage_2_block_1  (None, 14, 14, 3072  2362368    ['convnext_large_stage_2_block_10\n",
      " 0_pointwise_conv_1 (Dense)     )                                _layernorm[0][0]']               \n",
      "                                                                                                  \n",
      " convnext_large_stage_2_block_1  (None, 14, 14, 3072  0          ['convnext_large_stage_2_block_10\n",
      " 0_gelu (Activation)            )                                _pointwise_conv_1[0][0]']        \n",
      "                                                                                                  \n",
      " convnext_large_stage_2_block_1  (None, 14, 14, 768)  2360064    ['convnext_large_stage_2_block_10\n",
      " 0_pointwise_conv_2 (Dense)                                      _gelu[0][0]']                    \n",
      "                                                                                                  \n",
      " convnext_large_stage_2_block_1  (None, 14, 14, 768)  768        ['convnext_large_stage_2_block_10\n",
      " 0_layer_scale (LayerScale)                                      _pointwise_conv_2[0][0]']        \n",
      "                                                                                                  \n",
      " convnext_large_stage_2_block_1  (None, 14, 14, 768)  0          ['convnext_large_stage_2_block_10\n",
      " 0_identity (Activation)                                         _layer_scale[0][0]']             \n",
      "                                                                                                  \n",
      " tf.__operators__.add_88 (TFOpL  (None, 14, 14, 768)  0          ['tf.__operators__.add_87[0][0]',\n",
      " ambda)                                                           'convnext_large_stage_2_block_10\n",
      "                                                                 _identity[0][0]']                \n",
      "                                                                                                  \n",
      " convnext_large_stage_2_block_1  (None, 14, 14, 768)  38400      ['tf.__operators__.add_88[0][0]']\n",
      " 1_depthwise_conv (Conv2D)                                                                        \n",
      "                                                                                                  \n",
      " convnext_large_stage_2_block_1  (None, 14, 14, 768)  1536       ['convnext_large_stage_2_block_11\n",
      " 1_layernorm (LayerNormalizatio                                  _depthwise_conv[0][0]']          \n",
      " n)                                                                                               \n",
      "                                                                                                  \n",
      " convnext_large_stage_2_block_1  (None, 14, 14, 3072  2362368    ['convnext_large_stage_2_block_11\n",
      " 1_pointwise_conv_1 (Dense)     )                                _layernorm[0][0]']               \n",
      "                                                                                                  \n",
      " convnext_large_stage_2_block_1  (None, 14, 14, 3072  0          ['convnext_large_stage_2_block_11\n",
      " 1_gelu (Activation)            )                                _pointwise_conv_1[0][0]']        \n",
      "                                                                                                  \n",
      " convnext_large_stage_2_block_1  (None, 14, 14, 768)  2360064    ['convnext_large_stage_2_block_11\n",
      " 1_pointwise_conv_2 (Dense)                                      _gelu[0][0]']                    \n",
      "                                                                                                  \n",
      " convnext_large_stage_2_block_1  (None, 14, 14, 768)  768        ['convnext_large_stage_2_block_11\n",
      " 1_layer_scale (LayerScale)                                      _pointwise_conv_2[0][0]']        \n",
      "                                                                                                  \n",
      " convnext_large_stage_2_block_1  (None, 14, 14, 768)  0          ['convnext_large_stage_2_block_11\n",
      " 1_identity (Activation)                                         _layer_scale[0][0]']             \n",
      "                                                                                                  \n",
      " tf.__operators__.add_89 (TFOpL  (None, 14, 14, 768)  0          ['tf.__operators__.add_88[0][0]',\n",
      " ambda)                                                           'convnext_large_stage_2_block_11\n",
      "                                                                 _identity[0][0]']                \n",
      "                                                                                                  \n",
      " convnext_large_stage_2_block_1  (None, 14, 14, 768)  38400      ['tf.__operators__.add_89[0][0]']\n",
      " 2_depthwise_conv (Conv2D)                                                                        \n",
      "                                                                                                  \n",
      " convnext_large_stage_2_block_1  (None, 14, 14, 768)  1536       ['convnext_large_stage_2_block_12\n",
      " 2_layernorm (LayerNormalizatio                                  _depthwise_conv[0][0]']          \n",
      " n)                                                                                               \n",
      "                                                                                                  \n",
      " convnext_large_stage_2_block_1  (None, 14, 14, 3072  2362368    ['convnext_large_stage_2_block_12\n",
      " 2_pointwise_conv_1 (Dense)     )                                _layernorm[0][0]']               \n",
      "                                                                                                  \n",
      " convnext_large_stage_2_block_1  (None, 14, 14, 3072  0          ['convnext_large_stage_2_block_12\n",
      " 2_gelu (Activation)            )                                _pointwise_conv_1[0][0]']        \n",
      "                                                                                                  \n",
      " convnext_large_stage_2_block_1  (None, 14, 14, 768)  2360064    ['convnext_large_stage_2_block_12\n",
      " 2_pointwise_conv_2 (Dense)                                      _gelu[0][0]']                    \n",
      "                                                                                                  \n",
      " convnext_large_stage_2_block_1  (None, 14, 14, 768)  768        ['convnext_large_stage_2_block_12\n",
      " 2_layer_scale (LayerScale)                                      _pointwise_conv_2[0][0]']        \n",
      "                                                                                                  \n",
      " convnext_large_stage_2_block_1  (None, 14, 14, 768)  0          ['convnext_large_stage_2_block_12\n",
      " 2_identity (Activation)                                         _layer_scale[0][0]']             \n",
      "                                                                                                  \n",
      " tf.__operators__.add_90 (TFOpL  (None, 14, 14, 768)  0          ['tf.__operators__.add_89[0][0]',\n",
      " ambda)                                                           'convnext_large_stage_2_block_12\n",
      "                                                                 _identity[0][0]']                \n",
      "                                                                                                  \n",
      " convnext_large_stage_2_block_1  (None, 14, 14, 768)  38400      ['tf.__operators__.add_90[0][0]']\n",
      " 3_depthwise_conv (Conv2D)                                                                        \n",
      "                                                                                                  \n",
      " convnext_large_stage_2_block_1  (None, 14, 14, 768)  1536       ['convnext_large_stage_2_block_13\n",
      " 3_layernorm (LayerNormalizatio                                  _depthwise_conv[0][0]']          \n",
      " n)                                                                                               \n",
      "                                                                                                  \n",
      " convnext_large_stage_2_block_1  (None, 14, 14, 3072  2362368    ['convnext_large_stage_2_block_13\n",
      " 3_pointwise_conv_1 (Dense)     )                                _layernorm[0][0]']               \n",
      "                                                                                                  \n",
      " convnext_large_stage_2_block_1  (None, 14, 14, 3072  0          ['convnext_large_stage_2_block_13\n",
      " 3_gelu (Activation)            )                                _pointwise_conv_1[0][0]']        \n",
      "                                                                                                  \n",
      " convnext_large_stage_2_block_1  (None, 14, 14, 768)  2360064    ['convnext_large_stage_2_block_13\n",
      " 3_pointwise_conv_2 (Dense)                                      _gelu[0][0]']                    \n",
      "                                                                                                  \n",
      " convnext_large_stage_2_block_1  (None, 14, 14, 768)  768        ['convnext_large_stage_2_block_13\n",
      " 3_layer_scale (LayerScale)                                      _pointwise_conv_2[0][0]']        \n",
      "                                                                                                  \n",
      " convnext_large_stage_2_block_1  (None, 14, 14, 768)  0          ['convnext_large_stage_2_block_13\n",
      " 3_identity (Activation)                                         _layer_scale[0][0]']             \n",
      "                                                                                                  \n",
      " tf.__operators__.add_91 (TFOpL  (None, 14, 14, 768)  0          ['tf.__operators__.add_90[0][0]',\n",
      " ambda)                                                           'convnext_large_stage_2_block_13\n",
      "                                                                 _identity[0][0]']                \n",
      "                                                                                                  \n",
      " convnext_large_stage_2_block_1  (None, 14, 14, 768)  38400      ['tf.__operators__.add_91[0][0]']\n",
      " 4_depthwise_conv (Conv2D)                                                                        \n",
      "                                                                                                  \n",
      " convnext_large_stage_2_block_1  (None, 14, 14, 768)  1536       ['convnext_large_stage_2_block_14\n",
      " 4_layernorm (LayerNormalizatio                                  _depthwise_conv[0][0]']          \n",
      " n)                                                                                               \n",
      "                                                                                                  \n",
      " convnext_large_stage_2_block_1  (None, 14, 14, 3072  2362368    ['convnext_large_stage_2_block_14\n",
      " 4_pointwise_conv_1 (Dense)     )                                _layernorm[0][0]']               \n",
      "                                                                                                  \n",
      " convnext_large_stage_2_block_1  (None, 14, 14, 3072  0          ['convnext_large_stage_2_block_14\n",
      " 4_gelu (Activation)            )                                _pointwise_conv_1[0][0]']        \n",
      "                                                                                                  \n",
      " convnext_large_stage_2_block_1  (None, 14, 14, 768)  2360064    ['convnext_large_stage_2_block_14\n",
      " 4_pointwise_conv_2 (Dense)                                      _gelu[0][0]']                    \n",
      "                                                                                                  \n",
      " convnext_large_stage_2_block_1  (None, 14, 14, 768)  768        ['convnext_large_stage_2_block_14\n",
      " 4_layer_scale (LayerScale)                                      _pointwise_conv_2[0][0]']        \n",
      "                                                                                                  \n",
      " convnext_large_stage_2_block_1  (None, 14, 14, 768)  0          ['convnext_large_stage_2_block_14\n",
      " 4_identity (Activation)                                         _layer_scale[0][0]']             \n",
      "                                                                                                  \n",
      " tf.__operators__.add_92 (TFOpL  (None, 14, 14, 768)  0          ['tf.__operators__.add_91[0][0]',\n",
      " ambda)                                                           'convnext_large_stage_2_block_14\n",
      "                                                                 _identity[0][0]']                \n",
      "                                                                                                  \n",
      " convnext_large_stage_2_block_1  (None, 14, 14, 768)  38400      ['tf.__operators__.add_92[0][0]']\n",
      " 5_depthwise_conv (Conv2D)                                                                        \n",
      "                                                                                                  \n",
      " convnext_large_stage_2_block_1  (None, 14, 14, 768)  1536       ['convnext_large_stage_2_block_15\n",
      " 5_layernorm (LayerNormalizatio                                  _depthwise_conv[0][0]']          \n",
      " n)                                                                                               \n",
      "                                                                                                  \n",
      " convnext_large_stage_2_block_1  (None, 14, 14, 3072  2362368    ['convnext_large_stage_2_block_15\n",
      " 5_pointwise_conv_1 (Dense)     )                                _layernorm[0][0]']               \n",
      "                                                                                                  \n",
      " convnext_large_stage_2_block_1  (None, 14, 14, 3072  0          ['convnext_large_stage_2_block_15\n",
      " 5_gelu (Activation)            )                                _pointwise_conv_1[0][0]']        \n",
      "                                                                                                  \n",
      " convnext_large_stage_2_block_1  (None, 14, 14, 768)  2360064    ['convnext_large_stage_2_block_15\n",
      " 5_pointwise_conv_2 (Dense)                                      _gelu[0][0]']                    \n",
      "                                                                                                  \n",
      " convnext_large_stage_2_block_1  (None, 14, 14, 768)  768        ['convnext_large_stage_2_block_15\n",
      " 5_layer_scale (LayerScale)                                      _pointwise_conv_2[0][0]']        \n",
      "                                                                                                  \n",
      " convnext_large_stage_2_block_1  (None, 14, 14, 768)  0          ['convnext_large_stage_2_block_15\n",
      " 5_identity (Activation)                                         _layer_scale[0][0]']             \n",
      "                                                                                                  \n",
      " tf.__operators__.add_93 (TFOpL  (None, 14, 14, 768)  0          ['tf.__operators__.add_92[0][0]',\n",
      " ambda)                                                           'convnext_large_stage_2_block_15\n",
      "                                                                 _identity[0][0]']                \n",
      "                                                                                                  \n",
      " convnext_large_stage_2_block_1  (None, 14, 14, 768)  38400      ['tf.__operators__.add_93[0][0]']\n",
      " 6_depthwise_conv (Conv2D)                                                                        \n",
      "                                                                                                  \n",
      " convnext_large_stage_2_block_1  (None, 14, 14, 768)  1536       ['convnext_large_stage_2_block_16\n",
      " 6_layernorm (LayerNormalizatio                                  _depthwise_conv[0][0]']          \n",
      " n)                                                                                               \n",
      "                                                                                                  \n",
      " convnext_large_stage_2_block_1  (None, 14, 14, 3072  2362368    ['convnext_large_stage_2_block_16\n",
      " 6_pointwise_conv_1 (Dense)     )                                _layernorm[0][0]']               \n",
      "                                                                                                  \n",
      " convnext_large_stage_2_block_1  (None, 14, 14, 3072  0          ['convnext_large_stage_2_block_16\n",
      " 6_gelu (Activation)            )                                _pointwise_conv_1[0][0]']        \n",
      "                                                                                                  \n",
      " convnext_large_stage_2_block_1  (None, 14, 14, 768)  2360064    ['convnext_large_stage_2_block_16\n",
      " 6_pointwise_conv_2 (Dense)                                      _gelu[0][0]']                    \n",
      "                                                                                                  \n",
      " convnext_large_stage_2_block_1  (None, 14, 14, 768)  768        ['convnext_large_stage_2_block_16\n",
      " 6_layer_scale (LayerScale)                                      _pointwise_conv_2[0][0]']        \n",
      "                                                                                                  \n",
      " convnext_large_stage_2_block_1  (None, 14, 14, 768)  0          ['convnext_large_stage_2_block_16\n",
      " 6_identity (Activation)                                         _layer_scale[0][0]']             \n",
      "                                                                                                  \n",
      " tf.__operators__.add_94 (TFOpL  (None, 14, 14, 768)  0          ['tf.__operators__.add_93[0][0]',\n",
      " ambda)                                                           'convnext_large_stage_2_block_16\n",
      "                                                                 _identity[0][0]']                \n",
      "                                                                                                  \n",
      " convnext_large_stage_2_block_1  (None, 14, 14, 768)  38400      ['tf.__operators__.add_94[0][0]']\n",
      " 7_depthwise_conv (Conv2D)                                                                        \n",
      "                                                                                                  \n",
      " convnext_large_stage_2_block_1  (None, 14, 14, 768)  1536       ['convnext_large_stage_2_block_17\n",
      " 7_layernorm (LayerNormalizatio                                  _depthwise_conv[0][0]']          \n",
      " n)                                                                                               \n",
      "                                                                                                  \n",
      " convnext_large_stage_2_block_1  (None, 14, 14, 3072  2362368    ['convnext_large_stage_2_block_17\n",
      " 7_pointwise_conv_1 (Dense)     )                                _layernorm[0][0]']               \n",
      "                                                                                                  \n",
      " convnext_large_stage_2_block_1  (None, 14, 14, 3072  0          ['convnext_large_stage_2_block_17\n",
      " 7_gelu (Activation)            )                                _pointwise_conv_1[0][0]']        \n",
      "                                                                                                  \n",
      " convnext_large_stage_2_block_1  (None, 14, 14, 768)  2360064    ['convnext_large_stage_2_block_17\n",
      " 7_pointwise_conv_2 (Dense)                                      _gelu[0][0]']                    \n",
      "                                                                                                  \n",
      " convnext_large_stage_2_block_1  (None, 14, 14, 768)  768        ['convnext_large_stage_2_block_17\n",
      " 7_layer_scale (LayerScale)                                      _pointwise_conv_2[0][0]']        \n",
      "                                                                                                  \n",
      " convnext_large_stage_2_block_1  (None, 14, 14, 768)  0          ['convnext_large_stage_2_block_17\n",
      " 7_identity (Activation)                                         _layer_scale[0][0]']             \n",
      "                                                                                                  \n",
      " tf.__operators__.add_95 (TFOpL  (None, 14, 14, 768)  0          ['tf.__operators__.add_94[0][0]',\n",
      " ambda)                                                           'convnext_large_stage_2_block_17\n",
      "                                                                 _identity[0][0]']                \n",
      "                                                                                                  \n",
      " convnext_large_stage_2_block_1  (None, 14, 14, 768)  38400      ['tf.__operators__.add_95[0][0]']\n",
      " 8_depthwise_conv (Conv2D)                                                                        \n",
      "                                                                                                  \n",
      " convnext_large_stage_2_block_1  (None, 14, 14, 768)  1536       ['convnext_large_stage_2_block_18\n",
      " 8_layernorm (LayerNormalizatio                                  _depthwise_conv[0][0]']          \n",
      " n)                                                                                               \n",
      "                                                                                                  \n",
      " convnext_large_stage_2_block_1  (None, 14, 14, 3072  2362368    ['convnext_large_stage_2_block_18\n",
      " 8_pointwise_conv_1 (Dense)     )                                _layernorm[0][0]']               \n",
      "                                                                                                  \n",
      " convnext_large_stage_2_block_1  (None, 14, 14, 3072  0          ['convnext_large_stage_2_block_18\n",
      " 8_gelu (Activation)            )                                _pointwise_conv_1[0][0]']        \n",
      "                                                                                                  \n",
      " convnext_large_stage_2_block_1  (None, 14, 14, 768)  2360064    ['convnext_large_stage_2_block_18\n",
      " 8_pointwise_conv_2 (Dense)                                      _gelu[0][0]']                    \n",
      "                                                                                                  \n",
      " convnext_large_stage_2_block_1  (None, 14, 14, 768)  768        ['convnext_large_stage_2_block_18\n",
      " 8_layer_scale (LayerScale)                                      _pointwise_conv_2[0][0]']        \n",
      "                                                                                                  \n",
      " convnext_large_stage_2_block_1  (None, 14, 14, 768)  0          ['convnext_large_stage_2_block_18\n",
      " 8_identity (Activation)                                         _layer_scale[0][0]']             \n",
      "                                                                                                  \n",
      " tf.__operators__.add_96 (TFOpL  (None, 14, 14, 768)  0          ['tf.__operators__.add_95[0][0]',\n",
      " ambda)                                                           'convnext_large_stage_2_block_18\n",
      "                                                                 _identity[0][0]']                \n",
      "                                                                                                  \n",
      " convnext_large_stage_2_block_1  (None, 14, 14, 768)  38400      ['tf.__operators__.add_96[0][0]']\n",
      " 9_depthwise_conv (Conv2D)                                                                        \n",
      "                                                                                                  \n",
      " convnext_large_stage_2_block_1  (None, 14, 14, 768)  1536       ['convnext_large_stage_2_block_19\n",
      " 9_layernorm (LayerNormalizatio                                  _depthwise_conv[0][0]']          \n",
      " n)                                                                                               \n",
      "                                                                                                  \n",
      " convnext_large_stage_2_block_1  (None, 14, 14, 3072  2362368    ['convnext_large_stage_2_block_19\n",
      " 9_pointwise_conv_1 (Dense)     )                                _layernorm[0][0]']               \n",
      "                                                                                                  \n",
      " convnext_large_stage_2_block_1  (None, 14, 14, 3072  0          ['convnext_large_stage_2_block_19\n",
      " 9_gelu (Activation)            )                                _pointwise_conv_1[0][0]']        \n",
      "                                                                                                  \n",
      " convnext_large_stage_2_block_1  (None, 14, 14, 768)  2360064    ['convnext_large_stage_2_block_19\n",
      " 9_pointwise_conv_2 (Dense)                                      _gelu[0][0]']                    \n",
      "                                                                                                  \n",
      " convnext_large_stage_2_block_1  (None, 14, 14, 768)  768        ['convnext_large_stage_2_block_19\n",
      " 9_layer_scale (LayerScale)                                      _pointwise_conv_2[0][0]']        \n",
      "                                                                                                  \n",
      " convnext_large_stage_2_block_1  (None, 14, 14, 768)  0          ['convnext_large_stage_2_block_19\n",
      " 9_identity (Activation)                                         _layer_scale[0][0]']             \n",
      "                                                                                                  \n",
      " tf.__operators__.add_97 (TFOpL  (None, 14, 14, 768)  0          ['tf.__operators__.add_96[0][0]',\n",
      " ambda)                                                           'convnext_large_stage_2_block_19\n",
      "                                                                 _identity[0][0]']                \n",
      "                                                                                                  \n",
      " convnext_large_stage_2_block_2  (None, 14, 14, 768)  38400      ['tf.__operators__.add_97[0][0]']\n",
      " 0_depthwise_conv (Conv2D)                                                                        \n",
      "                                                                                                  \n",
      " convnext_large_stage_2_block_2  (None, 14, 14, 768)  1536       ['convnext_large_stage_2_block_20\n",
      " 0_layernorm (LayerNormalizatio                                  _depthwise_conv[0][0]']          \n",
      " n)                                                                                               \n",
      "                                                                                                  \n",
      " convnext_large_stage_2_block_2  (None, 14, 14, 3072  2362368    ['convnext_large_stage_2_block_20\n",
      " 0_pointwise_conv_1 (Dense)     )                                _layernorm[0][0]']               \n",
      "                                                                                                  \n",
      " convnext_large_stage_2_block_2  (None, 14, 14, 3072  0          ['convnext_large_stage_2_block_20\n",
      " 0_gelu (Activation)            )                                _pointwise_conv_1[0][0]']        \n",
      "                                                                                                  \n",
      " convnext_large_stage_2_block_2  (None, 14, 14, 768)  2360064    ['convnext_large_stage_2_block_20\n",
      " 0_pointwise_conv_2 (Dense)                                      _gelu[0][0]']                    \n",
      "                                                                                                  \n",
      " convnext_large_stage_2_block_2  (None, 14, 14, 768)  768        ['convnext_large_stage_2_block_20\n",
      " 0_layer_scale (LayerScale)                                      _pointwise_conv_2[0][0]']        \n",
      "                                                                                                  \n",
      " convnext_large_stage_2_block_2  (None, 14, 14, 768)  0          ['convnext_large_stage_2_block_20\n",
      " 0_identity (Activation)                                         _layer_scale[0][0]']             \n",
      "                                                                                                  \n",
      " tf.__operators__.add_98 (TFOpL  (None, 14, 14, 768)  0          ['tf.__operators__.add_97[0][0]',\n",
      " ambda)                                                           'convnext_large_stage_2_block_20\n",
      "                                                                 _identity[0][0]']                \n",
      "                                                                                                  \n",
      " convnext_large_stage_2_block_2  (None, 14, 14, 768)  38400      ['tf.__operators__.add_98[0][0]']\n",
      " 1_depthwise_conv (Conv2D)                                                                        \n",
      "                                                                                                  \n",
      " convnext_large_stage_2_block_2  (None, 14, 14, 768)  1536       ['convnext_large_stage_2_block_21\n",
      " 1_layernorm (LayerNormalizatio                                  _depthwise_conv[0][0]']          \n",
      " n)                                                                                               \n",
      "                                                                                                  \n",
      " convnext_large_stage_2_block_2  (None, 14, 14, 3072  2362368    ['convnext_large_stage_2_block_21\n",
      " 1_pointwise_conv_1 (Dense)     )                                _layernorm[0][0]']               \n",
      "                                                                                                  \n",
      " convnext_large_stage_2_block_2  (None, 14, 14, 3072  0          ['convnext_large_stage_2_block_21\n",
      " 1_gelu (Activation)            )                                _pointwise_conv_1[0][0]']        \n",
      "                                                                                                  \n",
      " convnext_large_stage_2_block_2  (None, 14, 14, 768)  2360064    ['convnext_large_stage_2_block_21\n",
      " 1_pointwise_conv_2 (Dense)                                      _gelu[0][0]']                    \n",
      "                                                                                                  \n",
      " convnext_large_stage_2_block_2  (None, 14, 14, 768)  768        ['convnext_large_stage_2_block_21\n",
      " 1_layer_scale (LayerScale)                                      _pointwise_conv_2[0][0]']        \n",
      "                                                                                                  \n",
      " convnext_large_stage_2_block_2  (None, 14, 14, 768)  0          ['convnext_large_stage_2_block_21\n",
      " 1_identity (Activation)                                         _layer_scale[0][0]']             \n",
      "                                                                                                  \n",
      " tf.__operators__.add_99 (TFOpL  (None, 14, 14, 768)  0          ['tf.__operators__.add_98[0][0]',\n",
      " ambda)                                                           'convnext_large_stage_2_block_21\n",
      "                                                                 _identity[0][0]']                \n",
      "                                                                                                  \n",
      " convnext_large_stage_2_block_2  (None, 14, 14, 768)  38400      ['tf.__operators__.add_99[0][0]']\n",
      " 2_depthwise_conv (Conv2D)                                                                        \n",
      "                                                                                                  \n",
      " convnext_large_stage_2_block_2  (None, 14, 14, 768)  1536       ['convnext_large_stage_2_block_22\n",
      " 2_layernorm (LayerNormalizatio                                  _depthwise_conv[0][0]']          \n",
      " n)                                                                                               \n",
      "                                                                                                  \n",
      " convnext_large_stage_2_block_2  (None, 14, 14, 3072  2362368    ['convnext_large_stage_2_block_22\n",
      " 2_pointwise_conv_1 (Dense)     )                                _layernorm[0][0]']               \n",
      "                                                                                                  \n",
      " convnext_large_stage_2_block_2  (None, 14, 14, 3072  0          ['convnext_large_stage_2_block_22\n",
      " 2_gelu (Activation)            )                                _pointwise_conv_1[0][0]']        \n",
      "                                                                                                  \n",
      " convnext_large_stage_2_block_2  (None, 14, 14, 768)  2360064    ['convnext_large_stage_2_block_22\n",
      " 2_pointwise_conv_2 (Dense)                                      _gelu[0][0]']                    \n",
      "                                                                                                  \n",
      " convnext_large_stage_2_block_2  (None, 14, 14, 768)  768        ['convnext_large_stage_2_block_22\n",
      " 2_layer_scale (LayerScale)                                      _pointwise_conv_2[0][0]']        \n",
      "                                                                                                  \n",
      " convnext_large_stage_2_block_2  (None, 14, 14, 768)  0          ['convnext_large_stage_2_block_22\n",
      " 2_identity (Activation)                                         _layer_scale[0][0]']             \n",
      "                                                                                                  \n",
      " tf.__operators__.add_100 (TFOp  (None, 14, 14, 768)  0          ['tf.__operators__.add_99[0][0]',\n",
      " Lambda)                                                          'convnext_large_stage_2_block_22\n",
      "                                                                 _identity[0][0]']                \n",
      "                                                                                                  \n",
      " convnext_large_stage_2_block_2  (None, 14, 14, 768)  38400      ['tf.__operators__.add_100[0][0]'\n",
      " 3_depthwise_conv (Conv2D)                                       ]                                \n",
      "                                                                                                  \n",
      " convnext_large_stage_2_block_2  (None, 14, 14, 768)  1536       ['convnext_large_stage_2_block_23\n",
      " 3_layernorm (LayerNormalizatio                                  _depthwise_conv[0][0]']          \n",
      " n)                                                                                               \n",
      "                                                                                                  \n",
      " convnext_large_stage_2_block_2  (None, 14, 14, 3072  2362368    ['convnext_large_stage_2_block_23\n",
      " 3_pointwise_conv_1 (Dense)     )                                _layernorm[0][0]']               \n",
      "                                                                                                  \n",
      " convnext_large_stage_2_block_2  (None, 14, 14, 3072  0          ['convnext_large_stage_2_block_23\n",
      " 3_gelu (Activation)            )                                _pointwise_conv_1[0][0]']        \n",
      "                                                                                                  \n",
      " convnext_large_stage_2_block_2  (None, 14, 14, 768)  2360064    ['convnext_large_stage_2_block_23\n",
      " 3_pointwise_conv_2 (Dense)                                      _gelu[0][0]']                    \n",
      "                                                                                                  \n",
      " convnext_large_stage_2_block_2  (None, 14, 14, 768)  768        ['convnext_large_stage_2_block_23\n",
      " 3_layer_scale (LayerScale)                                      _pointwise_conv_2[0][0]']        \n",
      "                                                                                                  \n",
      " convnext_large_stage_2_block_2  (None, 14, 14, 768)  0          ['convnext_large_stage_2_block_23\n",
      " 3_identity (Activation)                                         _layer_scale[0][0]']             \n",
      "                                                                                                  \n",
      " tf.__operators__.add_101 (TFOp  (None, 14, 14, 768)  0          ['tf.__operators__.add_100[0][0]'\n",
      " Lambda)                                                         , 'convnext_large_stage_2_block_2\n",
      "                                                                 3_identity[0][0]']               \n",
      "                                                                                                  \n",
      " convnext_large_stage_2_block_2  (None, 14, 14, 768)  38400      ['tf.__operators__.add_101[0][0]'\n",
      " 4_depthwise_conv (Conv2D)                                       ]                                \n",
      "                                                                                                  \n",
      " convnext_large_stage_2_block_2  (None, 14, 14, 768)  1536       ['convnext_large_stage_2_block_24\n",
      " 4_layernorm (LayerNormalizatio                                  _depthwise_conv[0][0]']          \n",
      " n)                                                                                               \n",
      "                                                                                                  \n",
      " convnext_large_stage_2_block_2  (None, 14, 14, 3072  2362368    ['convnext_large_stage_2_block_24\n",
      " 4_pointwise_conv_1 (Dense)     )                                _layernorm[0][0]']               \n",
      "                                                                                                  \n",
      " convnext_large_stage_2_block_2  (None, 14, 14, 3072  0          ['convnext_large_stage_2_block_24\n",
      " 4_gelu (Activation)            )                                _pointwise_conv_1[0][0]']        \n",
      "                                                                                                  \n",
      " convnext_large_stage_2_block_2  (None, 14, 14, 768)  2360064    ['convnext_large_stage_2_block_24\n",
      " 4_pointwise_conv_2 (Dense)                                      _gelu[0][0]']                    \n",
      "                                                                                                  \n",
      " convnext_large_stage_2_block_2  (None, 14, 14, 768)  768        ['convnext_large_stage_2_block_24\n",
      " 4_layer_scale (LayerScale)                                      _pointwise_conv_2[0][0]']        \n",
      "                                                                                                  \n",
      " convnext_large_stage_2_block_2  (None, 14, 14, 768)  0          ['convnext_large_stage_2_block_24\n",
      " 4_identity (Activation)                                         _layer_scale[0][0]']             \n",
      "                                                                                                  \n",
      " tf.__operators__.add_102 (TFOp  (None, 14, 14, 768)  0          ['tf.__operators__.add_101[0][0]'\n",
      " Lambda)                                                         , 'convnext_large_stage_2_block_2\n",
      "                                                                 4_identity[0][0]']               \n",
      "                                                                                                  \n",
      " convnext_large_stage_2_block_2  (None, 14, 14, 768)  38400      ['tf.__operators__.add_102[0][0]'\n",
      " 5_depthwise_conv (Conv2D)                                       ]                                \n",
      "                                                                                                  \n",
      " convnext_large_stage_2_block_2  (None, 14, 14, 768)  1536       ['convnext_large_stage_2_block_25\n",
      " 5_layernorm (LayerNormalizatio                                  _depthwise_conv[0][0]']          \n",
      " n)                                                                                               \n",
      "                                                                                                  \n",
      " convnext_large_stage_2_block_2  (None, 14, 14, 3072  2362368    ['convnext_large_stage_2_block_25\n",
      " 5_pointwise_conv_1 (Dense)     )                                _layernorm[0][0]']               \n",
      "                                                                                                  \n",
      " convnext_large_stage_2_block_2  (None, 14, 14, 3072  0          ['convnext_large_stage_2_block_25\n",
      " 5_gelu (Activation)            )                                _pointwise_conv_1[0][0]']        \n",
      "                                                                                                  \n",
      " convnext_large_stage_2_block_2  (None, 14, 14, 768)  2360064    ['convnext_large_stage_2_block_25\n",
      " 5_pointwise_conv_2 (Dense)                                      _gelu[0][0]']                    \n",
      "                                                                                                  \n",
      " convnext_large_stage_2_block_2  (None, 14, 14, 768)  768        ['convnext_large_stage_2_block_25\n",
      " 5_layer_scale (LayerScale)                                      _pointwise_conv_2[0][0]']        \n",
      "                                                                                                  \n",
      " convnext_large_stage_2_block_2  (None, 14, 14, 768)  0          ['convnext_large_stage_2_block_25\n",
      " 5_identity (Activation)                                         _layer_scale[0][0]']             \n",
      "                                                                                                  \n",
      " tf.__operators__.add_103 (TFOp  (None, 14, 14, 768)  0          ['tf.__operators__.add_102[0][0]'\n",
      " Lambda)                                                         , 'convnext_large_stage_2_block_2\n",
      "                                                                 5_identity[0][0]']               \n",
      "                                                                                                  \n",
      " convnext_large_stage_2_block_2  (None, 14, 14, 768)  38400      ['tf.__operators__.add_103[0][0]'\n",
      " 6_depthwise_conv (Conv2D)                                       ]                                \n",
      "                                                                                                  \n",
      " convnext_large_stage_2_block_2  (None, 14, 14, 768)  1536       ['convnext_large_stage_2_block_26\n",
      " 6_layernorm (LayerNormalizatio                                  _depthwise_conv[0][0]']          \n",
      " n)                                                                                               \n",
      "                                                                                                  \n",
      " convnext_large_stage_2_block_2  (None, 14, 14, 3072  2362368    ['convnext_large_stage_2_block_26\n",
      " 6_pointwise_conv_1 (Dense)     )                                _layernorm[0][0]']               \n",
      "                                                                                                  \n",
      " convnext_large_stage_2_block_2  (None, 14, 14, 3072  0          ['convnext_large_stage_2_block_26\n",
      " 6_gelu (Activation)            )                                _pointwise_conv_1[0][0]']        \n",
      "                                                                                                  \n",
      " convnext_large_stage_2_block_2  (None, 14, 14, 768)  2360064    ['convnext_large_stage_2_block_26\n",
      " 6_pointwise_conv_2 (Dense)                                      _gelu[0][0]']                    \n",
      "                                                                                                  \n",
      " convnext_large_stage_2_block_2  (None, 14, 14, 768)  768        ['convnext_large_stage_2_block_26\n",
      " 6_layer_scale (LayerScale)                                      _pointwise_conv_2[0][0]']        \n",
      "                                                                                                  \n",
      " convnext_large_stage_2_block_2  (None, 14, 14, 768)  0          ['convnext_large_stage_2_block_26\n",
      " 6_identity (Activation)                                         _layer_scale[0][0]']             \n",
      "                                                                                                  \n",
      " tf.__operators__.add_104 (TFOp  (None, 14, 14, 768)  0          ['tf.__operators__.add_103[0][0]'\n",
      " Lambda)                                                         , 'convnext_large_stage_2_block_2\n",
      "                                                                 6_identity[0][0]']               \n",
      "                                                                                                  \n",
      " convnext_large_downsampling_bl  (None, 7, 7, 1536)  4721664     ['tf.__operators__.add_104[0][0]'\n",
      " ock_2 (Sequential)                                              ]                                \n",
      "                                                                                                  \n",
      " convnext_large_stage_3_block_0  (None, 7, 7, 1536)  76800       ['convnext_large_downsampling_blo\n",
      " _depthwise_conv (Conv2D)                                        ck_2[0][0]']                     \n",
      "                                                                                                  \n",
      " convnext_large_stage_3_block_0  (None, 7, 7, 1536)  3072        ['convnext_large_stage_3_block_0_\n",
      " _layernorm (LayerNormalization                                  depthwise_conv[0][0]']           \n",
      " )                                                                                                \n",
      "                                                                                                  \n",
      " convnext_large_stage_3_block_0  (None, 7, 7, 6144)  9443328     ['convnext_large_stage_3_block_0_\n",
      " _pointwise_conv_1 (Dense)                                       layernorm[0][0]']                \n",
      "                                                                                                  \n",
      " convnext_large_stage_3_block_0  (None, 7, 7, 6144)  0           ['convnext_large_stage_3_block_0_\n",
      " _gelu (Activation)                                              pointwise_conv_1[0][0]']         \n",
      "                                                                                                  \n",
      " convnext_large_stage_3_block_0  (None, 7, 7, 1536)  9438720     ['convnext_large_stage_3_block_0_\n",
      " _pointwise_conv_2 (Dense)                                       gelu[0][0]']                     \n",
      "                                                                                                  \n",
      " convnext_large_stage_3_block_0  (None, 7, 7, 1536)  1536        ['convnext_large_stage_3_block_0_\n",
      " _layer_scale (LayerScale)                                       pointwise_conv_2[0][0]']         \n",
      "                                                                                                  \n",
      " convnext_large_stage_3_block_0  (None, 7, 7, 1536)  0           ['convnext_large_stage_3_block_0_\n",
      " _identity (Activation)                                          layer_scale[0][0]']              \n",
      "                                                                                                  \n",
      " tf.__operators__.add_105 (TFOp  (None, 7, 7, 1536)  0           ['convnext_large_downsampling_blo\n",
      " Lambda)                                                         ck_2[0][0]',                     \n",
      "                                                                  'convnext_large_stage_3_block_0_\n",
      "                                                                 identity[0][0]']                 \n",
      "                                                                                                  \n",
      " convnext_large_stage_3_block_1  (None, 7, 7, 1536)  76800       ['tf.__operators__.add_105[0][0]'\n",
      " _depthwise_conv (Conv2D)                                        ]                                \n",
      "                                                                                                  \n",
      " convnext_large_stage_3_block_1  (None, 7, 7, 1536)  3072        ['convnext_large_stage_3_block_1_\n",
      " _layernorm (LayerNormalization                                  depthwise_conv[0][0]']           \n",
      " )                                                                                                \n",
      "                                                                                                  \n",
      " convnext_large_stage_3_block_1  (None, 7, 7, 6144)  9443328     ['convnext_large_stage_3_block_1_\n",
      " _pointwise_conv_1 (Dense)                                       layernorm[0][0]']                \n",
      "                                                                                                  \n",
      " convnext_large_stage_3_block_1  (None, 7, 7, 6144)  0           ['convnext_large_stage_3_block_1_\n",
      " _gelu (Activation)                                              pointwise_conv_1[0][0]']         \n",
      "                                                                                                  \n",
      " convnext_large_stage_3_block_1  (None, 7, 7, 1536)  9438720     ['convnext_large_stage_3_block_1_\n",
      " _pointwise_conv_2 (Dense)                                       gelu[0][0]']                     \n",
      "                                                                                                  \n",
      " convnext_large_stage_3_block_1  (None, 7, 7, 1536)  1536        ['convnext_large_stage_3_block_1_\n",
      " _layer_scale (LayerScale)                                       pointwise_conv_2[0][0]']         \n",
      "                                                                                                  \n",
      " convnext_large_stage_3_block_1  (None, 7, 7, 1536)  0           ['convnext_large_stage_3_block_1_\n",
      " _identity (Activation)                                          layer_scale[0][0]']              \n",
      "                                                                                                  \n",
      " tf.__operators__.add_106 (TFOp  (None, 7, 7, 1536)  0           ['tf.__operators__.add_105[0][0]'\n",
      " Lambda)                                                         , 'convnext_large_stage_3_block_1\n",
      "                                                                 _identity[0][0]']                \n",
      "                                                                                                  \n",
      " convnext_large_stage_3_block_2  (None, 7, 7, 1536)  76800       ['tf.__operators__.add_106[0][0]'\n",
      " _depthwise_conv (Conv2D)                                        ]                                \n",
      "                                                                                                  \n",
      " convnext_large_stage_3_block_2  (None, 7, 7, 1536)  3072        ['convnext_large_stage_3_block_2_\n",
      " _layernorm (LayerNormalization                                  depthwise_conv[0][0]']           \n",
      " )                                                                                                \n",
      "                                                                                                  \n",
      " convnext_large_stage_3_block_2  (None, 7, 7, 6144)  9443328     ['convnext_large_stage_3_block_2_\n",
      " _pointwise_conv_1 (Dense)                                       layernorm[0][0]']                \n",
      "                                                                                                  \n",
      " convnext_large_stage_3_block_2  (None, 7, 7, 6144)  0           ['convnext_large_stage_3_block_2_\n",
      " _gelu (Activation)                                              pointwise_conv_1[0][0]']         \n",
      "                                                                                                  \n",
      " convnext_large_stage_3_block_2  (None, 7, 7, 1536)  9438720     ['convnext_large_stage_3_block_2_\n",
      " _pointwise_conv_2 (Dense)                                       gelu[0][0]']                     \n",
      "                                                                                                  \n",
      " convnext_large_stage_3_block_2  (None, 7, 7, 1536)  1536        ['convnext_large_stage_3_block_2_\n",
      " _layer_scale (LayerScale)                                       pointwise_conv_2[0][0]']         \n",
      "                                                                                                  \n",
      " convnext_large_stage_3_block_2  (None, 7, 7, 1536)  0           ['convnext_large_stage_3_block_2_\n",
      " _identity (Activation)                                          layer_scale[0][0]']              \n",
      "                                                                                                  \n",
      " tf.__operators__.add_107 (TFOp  (None, 7, 7, 1536)  0           ['tf.__operators__.add_106[0][0]'\n",
      " Lambda)                                                         , 'convnext_large_stage_3_block_2\n",
      "                                                                 _identity[0][0]']                \n",
      "                                                                                                  \n",
      " layer_normalization_2 (LayerNo  (None, 7, 7, 1536)  3072        ['tf.__operators__.add_107[0][0]'\n",
      " rmalization)                                                    ]                                \n",
      "                                                                                                  \n",
      "==================================================================================================\n",
      "Total params: 196,230,336\n",
      "Trainable params: 175,890,432\n",
      "Non-trainable params: 20,339,904\n",
      "__________________________________________________________________________________________________\n",
      "296\n"
     ]
    }
   ],
   "source": [
    "supernet1 = tf.keras.applications.convnext.ConvNeXtLarge(\n",
    "    include_top=False,\n",
    "    weights=\"imagenet\",\n",
    "    input_shape=(224,224,3)\n",
    ")\n",
    "\n",
    "\n",
    "\n",
    "count = 1\n",
    "print(len(supernet1.layers))\n",
    "for layer in supernet1.layers:\n",
    "    if count < 80:\n",
    "        layer.trainable = False\n",
    "    else:\n",
    "        layer.trainable = True\n",
    "    count += 1\n",
    "\n",
    "supernet1.summary()\n",
    "\n",
    "print(count)"
   ]
  },
  {
   "cell_type": "markdown",
   "source": [
    "## CNN Architecture"
   ],
   "metadata": {
    "collapsed": false
   }
  },
  {
   "cell_type": "code",
   "execution_count": null,
   "metadata": {
    "colab": {
     "base_uri": "https://localhost:8080/"
    },
    "id": "9GAvm1qx8IhK",
    "outputId": "ff118266-a42b-4f8f-d4b6-139f7d632f53"
   },
   "outputs": [
    {
     "name": "stdout",
     "output_type": "stream",
     "text": [
      "Model: \"model1\"\n",
      "__________________________________________________________________________________________________\n",
      " Layer (type)                   Output Shape         Param #     Connected to                     \n",
      "==================================================================================================\n",
      " input1 (InputLayer)            [(None, 36, 36, 3)]  0           []                               \n",
      "                                                                                                  \n",
      " resizing_2 (Resizing)          (None, 224, 224, 3)  0           ['input1[0][0]']                 \n",
      "                                                                                                  \n",
      " convnext_large (Functional)    (None, 7, 7, 1536)   196230336   ['resizing_2[0][0]']             \n",
      "                                                                                                  \n",
      " global_average_pooling2d_2 (Gl  (None, 1536)        0           ['convnext_large[0][0]']         \n",
      " obalAveragePooling2D)                                                                            \n",
      "                                                                                                  \n",
      " dropout_3 (Dropout)            (None, 1536)         0           ['global_average_pooling2d_2[0][0\n",
      "                                                                 ]']                              \n",
      "                                                                                                  \n",
      " dense_6 (Dense)                (None, 256)          393472      ['dropout_3[0][0]']              \n",
      "                                                                                                  \n",
      " input2 (InputLayer)            [(None, 36, 6)]      0           []                               \n",
      "                                                                                                  \n",
      " dense_7 (Dense)                (None, 12)           3084        ['dense_6[0][0]']                \n",
      "                                                                                                  \n",
      "==================================================================================================\n",
      "Total params: 196,626,892\n",
      "Trainable params: 176,286,988\n",
      "Non-trainable params: 20,339,904\n",
      "__________________________________________________________________________________________________\n"
     ]
    }
   ],
   "source": [
    "from keras import regularizers\n",
    "\n",
    "input1 = tfk.Input((36,36,3), name = 'input1')\n",
    "input2 = tfk.Input((36,6), name='input2')\n",
    "\n",
    "# RESIZING\n",
    "x = tfkl.Resizing(224,224,interpolation = \"bicubic\")(input1)\n",
    "x = supernet1(x)\n",
    "x = tf.keras.layers.GlobalAveragePooling2D()(x)\n",
    "convFeatures = tf.keras.layers.Dropout(0.5)(x)\n",
    "\n",
    "x = tf.keras.layers.Dense(256, activation='relu', kernel_initializer = tfk.initializers.HeUniform(seed))(convFeatures)\n",
    "outputs = tf.keras.layers.Dense(12, activation='softmax', kernel_initializer = tfk.initializers.GlorotUniform(seed))(x)\n",
    "\n",
    "\n",
    "model = tfk.Model(inputs=[input1, input2], outputs=outputs, name='model1')\n",
    "model.compile(loss=SparseCategoricalFocalLoss(class_weight = class_weights, gamma=1.5), optimizer=tfk.optimizers.Adam(learning_rate = 1e-4), metrics='accuracy')\n",
    "\n",
    "model.summary()"
   ]
  },
  {
   "cell_type": "markdown",
   "source": [
    "## CNN Training"
   ],
   "metadata": {
    "collapsed": false
   }
  },
  {
   "cell_type": "code",
   "execution_count": null,
   "metadata": {
    "id": "qvg0tuG88L2E"
   },
   "outputs": [],
   "source": [
    "#Train the model\n",
    "training_samples = int(X_train.shape[0])\n",
    "step_size = 4*training_samples // 8\n",
    "\n",
    "clr = CyclicLR(\n",
    "    mode='triangular',\n",
    "    base_lr=1e-6, \n",
    "    max_lr=1e-5,\n",
    "    step_size= step_size)\n",
    "\n",
    "\n",
    "\n",
    "history = model.fit(\n",
    "    train_dataset1,\n",
    "    epochs = 5,\n",
    "    callbacks = [\n",
    "        tfk.callbacks.EarlyStopping(monitor='val_accuracy', mode='max', patience=30, restore_best_weights=True), clr\n",
    "    ]\n",
    ").history"
   ]
  },
  {
   "cell_type": "markdown",
   "source": [
    "# CNN time series-based"
   ],
   "metadata": {
    "id": "LHogpctRBBWV"
   }
  },
  {
   "cell_type": "code",
   "execution_count": null,
   "metadata": {
    "id": "koMMctfFF4c0"
   },
   "outputs": [],
   "source": [
    "def build_1DCNN_classifier(input_shape, classes):\n",
    "    # Build the neural network layer by layer\n",
    "    input1 = tfk.Input((36,36,3), name = 'input1')\n",
    "    input2 = tfk.Input((36,6), name='input2')\n",
    "\n",
    "    # Feature extractor\n",
    "    cnn = tfkl.Conv1D(512,5,padding='same',activation='relu')(input2)\n",
    "    cnn = tfkl.Conv1D(256,5,padding='same',activation='relu')(cnn)\n",
    "    cnn = tfkl.Conv1D(128,5,padding='same',activation='relu')(cnn)\n",
    "    gap = tfkl.GlobalAveragePooling1D()(cnn)\n",
    "    dropout = tfkl.Dropout(.1, seed=seed)(gap)\n",
    "\n",
    "    # Classifier\n",
    "    classifier = tfkl.Dense(256, activation='relu')(dropout)\n",
    "\n",
    "    output_layer = tfkl.Dense(12, activation='softmax')(classifier)\n",
    "\n",
    "    # Connect input and output through the Model class\n",
    "    model = tfk.Model(inputs=[input1, input2], outputs=output_layer, name='model2')\n",
    "\n",
    "    # Compile the model\n",
    "    model.compile(loss=SparseCategoricalFocalLoss(class_weight = class_weights , gamma=2), optimizer=tfk.optimizers.Adam(1e-3), metrics='accuracy')\n",
    "\n",
    "    # Return the model\n",
    "    return model"
   ]
  },
  {
   "cell_type": "markdown",
   "source": [
    "## CNN Training"
   ],
   "metadata": {
    "collapsed": false
   }
  },
  {
   "cell_type": "code",
   "execution_count": null,
   "metadata": {
    "id": "74seRoecGDGg"
   },
   "outputs": [],
   "source": [
    "model2 =build_1DCNN_classifier(input_shape, classes)\n",
    "model2.summary()\n",
    "\n",
    "training_samples = int(X_train.shape[0])\n",
    "step_size = 4*training_samples // 8\n",
    "\n",
    "clr = CyclicLR(\n",
    "        mode='triangular',\n",
    "        base_lr=1e-6,\n",
    "    max_lr=1e-5,\n",
    "        step_size= step_size)\n",
    "\n",
    "history = model2.fit(\n",
    "        train_dataset1,\n",
    "        epochs = 10,\n",
    "        validation_data=val_dataset1,\n",
    "        callbacks = [\n",
    "            tfk.callbacks.EarlyStopping(monitor='val_accuracy', mode='max', patience=30, restore_best_weights=True), clr\n",
    "        ]\n",
    ").history"
   ]
  },
  {
   "cell_type": "code",
   "execution_count": null,
   "metadata": {
    "colab": {
     "base_uri": "https://localhost:8080/"
    },
    "id": "O8hy2VnBYX9U",
    "outputId": "12821deb-f259-4fa8-8de4-780bcdfecb94"
   },
   "outputs": [
    {
     "data": {
      "text/plain": [
       "26915"
      ]
     },
     "execution_count": 40,
     "metadata": {},
     "output_type": "execute_result"
    }
   ],
   "source": [
    "import gc\n",
    "tf.keras.backend.clear_session()\n",
    "\n",
    "gc.collect()"
   ]
  },
  {
   "cell_type": "markdown",
   "source": [
    "# Ensemble (Average based) of Vision CNN & Time-series CNN"
   ],
   "metadata": {
    "id": "zLElTBIOBPQf"
   }
  },
  {
   "cell_type": "code",
   "execution_count": null,
   "metadata": {
    "id": "-asN2gTDIdBw"
   },
   "outputs": [],
   "source": [
    "models = [model, model2]\n",
    "input1 = tfk.Input((36,36,3), name = 'input1')\n",
    "input2 = tfk.Input((36,6), name='input2')\n",
    "model_outputs = [model([input1, input2]) for model in models]\n",
    "ensemble_output = tfkl.Average()(model_outputs)\n",
    "ensemble_model = tfk.Model(inputs=[input1, input2], outputs=ensemble_output, name=\"ciao\")\n",
    "ensemble_model.compile(loss=SparseCategoricalFocalLoss(gamma=2), optimizer=tfk.optimizers.Adam(1e-3), metrics='accuracy')"
   ]
  },
  {
   "cell_type": "code",
   "execution_count": null,
   "metadata": {
    "colab": {
     "background_save": true
    },
    "id": "qFRa8vnvxHqr"
   },
   "outputs": [],
   "source": [
    "ensemble_model.save(\"models/Ensemble.h5\")"
   ]
  },
  {
   "cell_type": "markdown",
   "source": [
    "## Computing metrics (this was done before training on the whole dataset)"
   ],
   "metadata": {
    "id": "_d5_mnhpB4hf"
   }
  },
  {
   "cell_type": "markdown",
   "source": [
    "Standalone models performance"
   ],
   "metadata": {
    "collapsed": false
   }
  },
  {
   "cell_type": "code",
   "execution_count": null,
   "metadata": {
    "colab": {
     "base_uri": "https://localhost:8080/"
    },
    "id": "pPTSDgt6ExF1",
    "outputId": "2655f317-a83c-4f2a-af39-1ce5be00c54f"
   },
   "outputs": [
    {
     "name": "stdout",
     "output_type": "stream",
     "text": [
      "31/31 [==============================] - 2s 77ms/step - loss: 1.8747 - accuracy: 0.7572\n",
      "31/31 [==============================] - 0s 3ms/step - loss: 1.3503 - accuracy: 0.7140\n"
     ]
    }
   ],
   "source": [
    "# Predict the test set \n",
    "predictions1 = model.evaluate(test_dataset1)\n",
    "predictions2 = model2.evaluate(test_dataset1)"
   ]
  },
  {
   "cell_type": "markdown",
   "source": [
    "## Test-time augmentation"
   ],
   "metadata": {
    "collapsed": false
   }
  },
  {
   "cell_type": "code",
   "execution_count": null,
   "outputs": [
    {
     "name": "stdout",
     "output_type": "stream",
     "text": [
      "16/16 [==============================] - 6s 119ms/step\n",
      "16/16 [==============================] - 2s 120ms/step\n",
      "16/16 [==============================] - 2s 120ms/step\n",
      "16/16 [==============================] - 2s 118ms/step\n",
      "16/16 [==============================] - 2s 118ms/step\n",
      "16/16 [==============================] - 2s 117ms/step\n",
      "16/16 [==============================] - 2s 117ms/step\n"
     ]
    }
   ],
   "source": [
    "def apply_aug(x, aug):\n",
    "    xaug = np.empty_like(x)\n",
    "    for i in range(x.shape[0]):\n",
    "      s = np.expand_dims(x[i], axis = 0)\n",
    "      xaug[i] = aug(s)\n",
    "\n",
    "    return xaug\n",
    "\n",
    "def combine_predictions(predictions):\n",
    "    pred_agg = np.mean(predictions, axis=0)\n",
    "    preds = np.argmax(pred_agg, axis=-1)\n",
    "    return preds\n",
    "\n",
    "def prepare1d(array):\n",
    "  array = scalerSampleWise(array)\n",
    "  return normalizerSampleWise(array)\n",
    "\n",
    "def combinedPred(m, x_test, augmentation=None):\n",
    "\n",
    "    x_test = apply_aug(x_test, augmentation) if augmentation is not None else x_test\n",
    "    x_test_1d = prepare1d(x_test)\n",
    "    x_test_2d = timeSeriesToImage(x_test)\n",
    "    X = (x_test_2d, x_test_1d)\n",
    "\n",
    "    return m.predict(X)\n",
    "\n",
    "def tta_predict(m, x_test):\n",
    "\n",
    "    pred1 = combinedPred(m, x_test)\n",
    "    pred2 = combinedPred(m, x_test, jitter)\n",
    "    pred3 = combinedPred(m, x_test, scaling)\n",
    "    pred4 = combinedPred(m, x_test, time_warp)\n",
    "    pred5 = combinedPred(m, x_test, window_slice)\n",
    "    pred6 = combinedPred(m, x_test, window_warp)\n",
    "    pred7 = combinedPred(m, x_test, magnitude_warp)\n",
    "\n",
    "    out = combine_predictions(np.stack((pred1, pred2, pred3, pred4, pred5, pred6, pred7)))\n",
    "    return out\n",
    "\n",
    "predictions = tta_predict(ensemble_model, X_test)"
   ],
   "metadata": {
    "collapsed": false
   }
  },
  {
   "cell_type": "markdown",
   "source": [
    "## Ensemble model performance (No TTA)"
   ],
   "metadata": {
    "collapsed": false
   }
  },
  {
   "cell_type": "code",
   "execution_count": null,
   "metadata": {
    "colab": {
     "base_uri": "https://localhost:8080/"
    },
    "id": "rDgEGsNrJy6l",
    "outputId": "7a7677f5-f69f-4660-a7f2-bd734428e541"
   },
   "outputs": [
    {
     "name": "stdout",
     "output_type": "stream",
     "text": [
      "31/31 [==============================] - 8s 77ms/step - loss: 0.5573 - accuracy: 0.7716\n"
     ]
    }
   ],
   "source": [
    "predictions = ensemble_model.evaluate(test_dataset1)"
   ]
  },
  {
   "cell_type": "markdown",
   "source": [
    "## Ensemble model performance (TTA)"
   ],
   "metadata": {
    "collapsed": false
   }
  },
  {
   "cell_type": "code",
   "execution_count": null,
   "metadata": {
    "id": "7q7EKfLKjwDs"
   },
   "outputs": [],
   "source": [
    "accuracy = accuracy_score(y_test, predictions)"
   ]
  },
  {
   "cell_type": "code",
   "execution_count": null,
   "metadata": {
    "colab": {
     "base_uri": "https://localhost:8080/"
    },
    "id": "7H5y4odm12Nm",
    "outputId": "11cccc8d-9a62-45a0-89fd-77342cacbd69"
   },
   "outputs": [
    {
     "data": {
      "text/plain": [
       "0.7901234567901234"
      ]
     },
     "execution_count": 56,
     "metadata": {},
     "output_type": "execute_result"
    }
   ],
   "source": [
    "accuracy"
   ]
  },
  {
   "cell_type": "code",
   "execution_count": null,
   "metadata": {
    "id": "uttLAvXWE82r"
   },
   "outputs": [],
   "source": [
    "# Compute the confusion matrix\n",
    "cm = confusion_matrix(np.argmax(y_test, axis=-1), np.argmax(predictions, axis=-1))\n",
    "\n",
    "# Compute the classification metrics\n",
    "accuracy = accuracy_score(np.argmax(y_test, axis=-1), np.argmax(predictions, axis=-1))\n",
    "precision = precision_score(np.argmax(y_test, axis=-1), np.argmax(predictions, axis=-1), average='macro')\n",
    "recall = recall_score(np.argmax(y_test, axis=-1), np.argmax(predictions, axis=-1), average='macro')\n",
    "f1 = f1_score(np.argmax(y_test, axis=-1), np.argmax(predictions, axis=-1), average='macro')\n",
    "print('Accuracy:',accuracy.round(4))\n",
    "print('Precision:',precision.round(4))\n",
    "print('Recall:',recall.round(4))\n",
    "print('F1:',f1.round(4))\n",
    "\n",
    "# Plot the confusion matrix\n",
    "plt.figure(figsize=(10,8))\n",
    "sns.heatmap(cm.T, cmap='Blues')\n",
    "plt.xlabel('True labels')\n",
    "plt.ylabel('Predicted labels')\n",
    "plt.show()"
   ]
  },
  {
   "cell_type": "markdown",
   "source": [
    "# Loading model and prediction"
   ],
   "metadata": {
    "collapsed": false
   }
  },
  {
   "cell_type": "markdown",
   "source": [
    "Standalone code to load and perform inference"
   ],
   "metadata": {
    "collapsed": false
   }
  },
  {
   "cell_type": "code",
   "execution_count": null,
   "outputs": [],
   "source": [
    "import os\n",
    "import tensorflow as tf\n",
    "import itertools\n",
    "import numpy as np\n",
    "\n",
    "class model:\n",
    "    def __init__(self, path):\n",
    "        self.model = tf.keras.models.load_model(os.path.join(path, 'Ensemble.h5'),custom_objects={'LayerScale': LayerScale,'Custom>SparseCategoricalFocalLoss': SparseCategoricalFocalLoss})\n",
    "\n",
    "    def jitter(self, x, sigma=0.03):\n",
    "    # https://arxiv.org/pdf/1706.00527.pdf\n",
    "      return x + np.random.normal(loc=0., scale=sigma, size=x.shape)\n",
    "\n",
    "    def scaling(self, x, sigma=0.1):\n",
    "        # https://arxiv.org/pdf/1706.00527.pdf\n",
    "        factor = np.random.normal(loc=1., scale=sigma, size=(x.shape[0],x.shape[2]))\n",
    "        return np.multiply(x, factor[:,np.newaxis,:])\n",
    "\n",
    "\n",
    "    def time_warp(self, x, sigma=0.2, knot=4):\n",
    "        from scipy.interpolate import CubicSpline\n",
    "        orig_steps = np.arange(x.shape[1])\n",
    "\n",
    "        random_warps = np.random.normal(loc=1.0, scale=sigma, size=(x.shape[0], knot+2, x.shape[2]))\n",
    "        warp_steps = (np.ones((x.shape[2],1))*(np.linspace(0, x.shape[1]-1., num=knot+2))).T\n",
    "\n",
    "        ret = np.zeros_like(x)\n",
    "        for i, pat in enumerate(x):\n",
    "            for dim in range(x.shape[2]):\n",
    "                time_warp = CubicSpline(warp_steps[:,dim], warp_steps[:,dim] * random_warps[i,:,dim])(orig_steps)\n",
    "                scale = (x.shape[1]-1)/time_warp[-1]\n",
    "                ret[i,:,dim] = np.interp(orig_steps, np.clip(scale*time_warp, 0, x.shape[1]-1), pat[:,dim]).T\n",
    "        return ret\n",
    "\n",
    "\n",
    "    def window_slice(self, x, reduce_ratio=0.9):\n",
    "        # https://halshs.archives-ouvertes.fr/halshs-01357973/document\n",
    "        target_len = np.ceil(reduce_ratio*x.shape[1]).astype(int)\n",
    "        if target_len >= x.shape[1]:\n",
    "            return x\n",
    "        starts = np.random.randint(low=0, high=x.shape[1]-target_len, size=(x.shape[0])).astype(int)\n",
    "        ends = (target_len + starts).astype(int)\n",
    "\n",
    "        ret = np.zeros_like(x)\n",
    "        for i, pat in enumerate(x):\n",
    "            for dim in range(x.shape[2]):\n",
    "                ret[i,:,dim] = np.interp(np.linspace(0, target_len, num=x.shape[1]), np.arange(target_len), pat[starts[i]:ends[i],dim]).T\n",
    "        return ret\n",
    "\n",
    "    def window_warp(self, x, window_ratio=0.1, scales=[0.5, 2.]):\n",
    "        # https://halshs.archives-ouvertes.fr/halshs-01357973/document\n",
    "        warp_scales = np.random.choice(scales, x.shape[0])\n",
    "        warp_size = np.ceil(window_ratio*x.shape[1]).astype(int)\n",
    "        window_steps = np.arange(warp_size)\n",
    "\n",
    "        window_starts = np.random.randint(low=1, high=x.shape[1]-warp_size-1, size=(x.shape[0])).astype(int)\n",
    "        window_ends = (window_starts + warp_size).astype(int)\n",
    "\n",
    "        ret = np.zeros_like(x)\n",
    "        for i, pat in enumerate(x):\n",
    "            for dim in range(x.shape[2]):\n",
    "                start_seg = pat[:window_starts[i],dim]\n",
    "                window_seg = np.interp(np.linspace(0, warp_size-1, num=int(warp_size*warp_scales[i])), window_steps, pat[window_starts[i]:window_ends[i],dim])\n",
    "                end_seg = pat[window_ends[i]:,dim]\n",
    "                warped = np.concatenate((start_seg, window_seg, end_seg))\n",
    "                ret[i,:,dim] = np.interp(np.arange(x.shape[1]), np.linspace(0, x.shape[1]-1., num=warped.size), warped).T\n",
    "        return ret\n",
    "\n",
    "    def magnitude_warp(self, x, sigma=0.2, knot=4):\n",
    "        from scipy.interpolate import CubicSpline\n",
    "        orig_steps = np.arange(x.shape[1])\n",
    "\n",
    "        random_warps = np.random.normal(loc=1.0, scale=sigma, size=(x.shape[0], knot+2, x.shape[2]))\n",
    "        warp_steps = (np.ones((x.shape[2],1))*(np.linspace(0, x.shape[1]-1., num=knot+2))).T\n",
    "        ret = np.zeros_like(x)\n",
    "        for i, pat in enumerate(x):\n",
    "            warper = np.array([CubicSpline(warp_steps[:,dim], random_warps[i,:,dim])(orig_steps) for dim in range(x.shape[2])]).T\n",
    "            ret[i] = pat * warper\n",
    "\n",
    "        return ret\n",
    "\n",
    "    def apply_aug(self, x, aug):\n",
    "\n",
    "        xaug = np.empty_like(x)\n",
    "        for i in range(x.shape[0]):\n",
    "          s = np.expand_dims(x[i], axis = 0)\n",
    "          xaug[i] = aug(s)\n",
    "\n",
    "        return xaug\n",
    "\n",
    "    def combine_predictions(self, predictions):\n",
    "        pred_agg = np.mean(predictions, axis=0)\n",
    "        preds = np.argmax(pred_agg, axis=-1)\n",
    "        return preds\n",
    "\n",
    "    def shifter0255(self, array):\n",
    "            for i in range(array.shape[0]):\n",
    "                flattened = array[i].flatten()\n",
    "                shifted = np.interp(flattened, (flattened.min(), flattened.max()), (0, 255))\n",
    "                array[i] = np.reshape(shifted, array[i].shape)\n",
    "    def timeSeriesToImage(self, x):\n",
    "            x = np.repeat(x, repeats = 6, axis = 2)\n",
    "            shifter0255(x)\n",
    "            x = np.stack([x, x, x], axis = -1)\n",
    "            return x\n",
    "\n",
    "\n",
    "    def scalerSampleWise(self, array):\n",
    "      for i in range(array.shape[0]):\n",
    "        max = array[i].max()\n",
    "        min = array[i].min()\n",
    "\n",
    "        array[i] = (array[i]-min)/(max-min)\n",
    "\n",
    "      return array\n",
    "\n",
    "    def normalizerSampleWise(self, array):\n",
    "      for i in range(array.shape[0]):\n",
    "        mean = array[i].mean()\n",
    "        std = array[i].std()\n",
    "\n",
    "        array[i] = (array[i]-mean)/std\n",
    "\n",
    "      return array\n",
    "\n",
    "    def prepare1d(array):\n",
    "      array = scalerSampleWise(array)\n",
    "      return normalizerSampleWise(array)\n",
    "\n",
    "\n",
    "    def combinedPred(self, m, x_test, augmentation=None):\n",
    "\n",
    "        x_test = apply_aug(x_test, augmentation) if augmentation is not None else x_test\n",
    "        x_test_1d = prepare1d(x_test)\n",
    "        x_test_2d = timeSeriesToImage(x_test)\n",
    "\n",
    "        X = (x_test_2d, x_test_1d)\n",
    "\n",
    "        return m.predict(X)\n",
    "\n",
    "    def tta_predict(self, m, x_test):\n",
    "\n",
    "        pred1 = combinedPred(m, x_test)\n",
    "        pred2 = combinedPred(m, x_test, self.jitter)\n",
    "        pred3 = combinedPred(m, x_test, self.scaling)\n",
    "        pred4 = combinedPred(m, x_test, self.time_warp)\n",
    "        pred5 = combinedPred(m, x_test, self.window_slice)\n",
    "        pred6 = combinedPred(m, x_test, self.window_warp)\n",
    "        pred7 = combinedPred(m, x_test, self.magnitude_warp)\n",
    "\n",
    "        out = combine_predictions(np.stack((pred1, pred2, pred3, pred4, pred5, pred6, pred7)))\n",
    "        return out\n",
    "\n",
    "    def predict(self, X):\n",
    "\n",
    "        X_np = X.numpy()\n",
    "        out = tta_predict(self.model, X_np)\n",
    "        out = tf.convert_to_tensor(out)\n",
    "\n",
    "        return out\n",
    "\n",
    "class LayerScale(tf.keras.layers.Layer):\n",
    "    \"\"\"Layer scale module.\n",
    "    References:\n",
    "      - https://arxiv.org/abs/2103.17239\n",
    "    Args:\n",
    "      init_values (float): Initial value for layer scale. Should be within\n",
    "        [0, 1].\n",
    "      projection_dim (int): Projection dimensionality.\n",
    "    Returns:\n",
    "      Tensor multiplied to the scale.\n",
    "    \"\"\"\n",
    "\n",
    "    def __init__(self, init_values, projection_dim, **kwargs):\n",
    "        super().__init__(**kwargs)\n",
    "        self.init_values = init_values\n",
    "        self.projection_dim = projection_dim\n",
    "\n",
    "    def build(self, input_shape):\n",
    "        self.gamma = tf.Variable(\n",
    "            self.init_values * tf.ones((self.projection_dim,))\n",
    "        )\n",
    "\n",
    "    def call(self, x):\n",
    "        return x * self.gamma\n",
    "\n",
    "    def get_config(self):\n",
    "        config = super().get_config()\n",
    "        config.update(\n",
    "            {\n",
    "                \"init_values\": self.init_values,\n",
    "                \"projection_dim\": self.projection_dim,\n",
    "            }\n",
    "        )\n",
    "        return config\n",
    "\n",
    "_EPSILON = tf.keras.backend.epsilon()\n",
    "\n",
    "def sparse_categorical_focal_loss(y_true, y_pred, gamma, *,\n",
    "                                  class_weight = None,\n",
    "                                  from_logits: bool = False, axis: int = -1\n",
    "                                  ) -> tf.Tensor:\n",
    "\n",
    "    # Process focusing parameter\n",
    "    gamma = tf.convert_to_tensor(gamma, dtype=tf.dtypes.float32)\n",
    "    gamma_rank = gamma.shape.rank\n",
    "    scalar_gamma = gamma_rank == 0\n",
    "\n",
    "    # Process class weight\n",
    "    if class_weight is not None:\n",
    "        class_weight = tf.convert_to_tensor(class_weight,\n",
    "                                            dtype=tf.dtypes.float32)\n",
    "\n",
    "    # Process prediction tensor\n",
    "    y_pred = tf.convert_to_tensor(y_pred)\n",
    "    y_pred_rank = y_pred.shape.rank\n",
    "    if y_pred_rank is not None:\n",
    "        axis %= y_pred_rank\n",
    "        if axis != y_pred_rank - 1:\n",
    "            # Put channel axis last for sparse_softmax_cross_entropy_with_logits\n",
    "            perm = list(itertools.chain(range(axis),\n",
    "                                        range(axis + 1, y_pred_rank), [axis]))\n",
    "            y_pred = tf.transpose(y_pred, perm=perm)\n",
    "    elif axis != -1:\n",
    "        raise ValueError(\n",
    "            f'Cannot compute sparse categorical focal loss with axis={axis} on '\n",
    "            'a prediction tensor with statically unknown rank.')\n",
    "    y_pred_shape = tf.shape(y_pred)\n",
    "\n",
    "    # Process ground truth tensor\n",
    "    y_true = tf.dtypes.cast(y_true, dtype=tf.dtypes.int64)\n",
    "    y_true_rank = y_true.shape.rank\n",
    "\n",
    "    if y_true_rank is None:\n",
    "        raise NotImplementedError('Sparse categorical focal loss not supported '\n",
    "                                  'for target/label tensors of unknown rank')\n",
    "\n",
    "    reshape_needed = (y_true_rank is not None and y_pred_rank is not None and\n",
    "                      y_pred_rank != y_true_rank + 1)\n",
    "    if reshape_needed:\n",
    "        y_true = tf.reshape(y_true, [-1])\n",
    "        y_pred = tf.reshape(y_pred, [-1, y_pred_shape[-1]])\n",
    "\n",
    "    if from_logits:\n",
    "        logits = y_pred\n",
    "        probs = tf.nn.softmax(y_pred, axis=-1)\n",
    "    else:\n",
    "        probs = y_pred\n",
    "        logits = tf.math.log(tf.clip_by_value(y_pred, _EPSILON, 1 - _EPSILON))\n",
    "\n",
    "    xent_loss = tf.nn.sparse_softmax_cross_entropy_with_logits(\n",
    "        labels=y_true,\n",
    "        logits=logits,\n",
    "    )\n",
    "\n",
    "    y_true_rank = y_true.shape.rank\n",
    "    probs = tf.gather(probs, y_true, axis=-1, batch_dims=y_true_rank)\n",
    "    if not scalar_gamma:\n",
    "        gamma = tf.gather(gamma, y_true, axis=0, batch_dims=y_true_rank)\n",
    "    focal_modulation = (1 - probs) ** gamma\n",
    "    loss = focal_modulation * xent_loss\n",
    "\n",
    "    if class_weight is not None:\n",
    "        class_weight = tf.gather(class_weight, y_true, axis=0,\n",
    "                                 batch_dims=y_true_rank)\n",
    "        loss *= class_weight\n",
    "\n",
    "    if reshape_needed:\n",
    "        loss = tf.reshape(loss, y_pred_shape[:-1])\n",
    "\n",
    "    return loss\n",
    "\n",
    "class SparseCategoricalFocalLoss(tf.keras.losses.Loss):\n",
    "\n",
    "    def __init__(self, gamma, class_weight = None,\n",
    "                 from_logits: bool = False, **kwargs):\n",
    "        super().__init__(**kwargs)\n",
    "        self.gamma = gamma\n",
    "        self.class_weight = class_weight\n",
    "        self.from_logits = from_logits\n",
    "\n",
    "    def get_config(self):\n",
    "        config = super().get_config()\n",
    "        config.update(gamma=self.gamma, class_weight=self.class_weight,\n",
    "                      from_logits=self.from_logits)\n",
    "        return config\n",
    "\n",
    "    def call(self, y_true, y_pred):\n",
    "        return sparse_categorical_focal_loss(y_true=y_true, y_pred=y_pred,\n",
    "                                             class_weight=self.class_weight,\n",
    "                                             gamma=self.gamma,\n",
    "                                             from_logits=self.from_logits)"
   ],
   "metadata": {
    "collapsed": false
   }
  },
  {
   "cell_type": "code",
   "execution_count": null,
   "metadata": {
    "id": "_pI9bpEm3PFa"
   },
   "outputs": [],
   "source": [
    "m = model(path = \"models/\")"
   ]
  },
  {
   "cell_type": "code",
   "execution_count": null,
   "metadata": {
    "id": "mJ2atW7j3Vsv"
   },
   "outputs": [],
   "source": [
    "X_test = \"\" # test data\n",
    "preds = m.predict(tf.convert_to_tensor(X_test))"
   ]
  },
  {
   "cell_type": "code",
   "execution_count": null,
   "metadata": {
    "id": "Njx5IpTp3odk"
   },
   "outputs": [],
   "source": [
    "accuracy = accuracy_score(y_test, preds)"
   ]
  },
  {
   "cell_type": "code",
   "execution_count": null,
   "metadata": {
    "id": "-LD0ZRsy4aNd"
   },
   "outputs": [],
   "source": [
    "accuracy"
   ]
  }
 ],
 "metadata": {
  "accelerator": "GPU",
  "colab": {
   "machine_shape": "hm",
   "provenance": []
  },
  "gpuClass": "premium",
  "kernelspec": {
   "display_name": "Python 3",
   "name": "python3"
  },
  "language_info": {
   "name": "python"
  }
 },
 "nbformat": 4,
 "nbformat_minor": 0
}
